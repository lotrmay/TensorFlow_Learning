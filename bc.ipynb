{
  "nbformat": 4,
  "nbformat_minor": 0,
  "metadata": {
    "accelerator": "GPU",
    "colab": {
      "name": "bc.ipynb",
      "provenance": [],
      "collapsed_sections": [],
      "authorship_tag": "ABX9TyPBUDsPXCQQ79KCuKwF2rTt",
      "include_colab_link": true
    },
    "kernelspec": {
      "display_name": "Python 3",
      "name": "python3"
    },
    "language_info": {
      "name": "python"
    }
  },
  "cells": [
    {
      "cell_type": "markdown",
      "metadata": {
        "id": "view-in-github",
        "colab_type": "text"
      },
      "source": [
        "<a href=\"https://colab.research.google.com/github/lotrmay/TensorFlow_Learning/blob/master/bc.ipynb\" target=\"_parent\"><img src=\"https://colab.research.google.com/assets/colab-badge.svg\" alt=\"Open In Colab\"/></a>"
      ]
    },
    {
      "cell_type": "code",
      "metadata": {
        "id": "WCY-aVPMK1aO",
        "colab": {
          "base_uri": "https://localhost:8080/"
        },
        "outputId": "f4088de4-5635-42d0-d938-0f672ef20c02"
      },
      "source": [
        "%tensorflow_version 2.x\n",
        "import tensorflow as tf\n",
        "from __future__ import absolute_import, division, print_function, unicode_literals\n",
        "from sklearn.model_selection import train_test_split\n",
        "from sklearn.preprocessing import MinMaxScaler, StandardScaler\n",
        "from sklearn.model_selection import GridSearchCV\n",
        "from sklearn.neighbors import KNeighborsClassifier\n",
        "from google.colab import drive\n",
        "import pickle\n",
        "\n",
        "import numpy as np #better arrays in python, lepší práce s multidimenzionálními poli\n",
        "import pandas as pd #data analytics tool, lepší manipulace s daty, dokáže například cut outnout column\n",
        "import matplotlib.pyplot as plt #vizualizace tabulek a grafů\n",
        "from IPython.display import clear_output #jen pro tenhle notebook\n",
        "from six.moves import urllib\n",
        "from keras.models import Sequential\n",
        "from keras.layers import Dense\n",
        "from tensorflow.keras import utils as np_utils\n",
        "import matplotlib.pyplot as plt\n",
        "from sklearn.neighbors import LocalOutlierFactor\n",
        "import keras\n",
        "\n",
        "#CSV_COLUMN_NAMES označuje nadpisy sloupců v csv soubour\n",
        "CSV_COLUMN_NAMES=['Odds_firstTeam','Odds_secondTeam','Rank_firstTeam','Rank_secondTeam','WinRate_firstTeam','WinRate_secondTeam','PistolWinRate_firstTeam','PistolWinRate_secondTeam',\n",
        "                  'playerAARating','playerAADpr','playerAAKast','playerAAImpact','playerAAAdr','playerAAKpr','playerAAHs','playerAAKD','playerAAGrenadeDmg',\n",
        "                  'playerABRating','playerABDpr','playerABKast','playerABImpact','playerABAdr','playerABKpr','playerABHs','playerABKD','playerABGrenadeDmg',\n",
        "                  'playerACRating','playerACDpr','playerACKast','playerACImpact','playerACAdr','playerACKpr','playerACHs','playerACKD','playerACGrenadeDmg',\n",
        "                  'playerADRating','playerADDpr','playerADKast','playerADImpact','playerADAdr','playerADKpr','playerADHs','playerADKD','playerADGrenadeDmg',\n",
        "                  'playerAERating','playerAEDpr','playerAEKast','playerAEImpact','playerAEAdr','playerAEKpr','playerAEHs','playerAEKD','playerAEGrenadeDmg',\n",
        "                  'playerBARating','playerBADpr','playerBAKast','playerBAImpact','playerBAAdr','playerBAKpr','playerBAHs','playerBAKD','playerBAGrenadeDmg',\n",
        "                  'playerBBRating','playerBBDpr','playerBBKast','playerBBImpact','playerBBAdr','playerBBKpr','playerBBHs','playerBBKD','playerBBGrenadeDmg',\n",
        "                  'playerBCRating','playerBCDpr','playerBCKast','playerBCImpact','playerBCAdr','playerBCKpr','playerBCHs','playerBCKD','playerBCGrenadeDmg',\n",
        "                  'playerBDRating','playerBDDpr','playerBDKast','playerBDImpact','playerBDAdr','playerBDKpr','playerBDHs','playerBDKD','playerBDGrenadeDmg',\n",
        "                  'playerBERating','playerBEDpr','playerBEKast','playerBEImpact','playerBEAdr','playerBEKpr','playerBEHs','playerBEKD','playerBEGrenadeDmg','Match_link','Result','team_one_name','team_two_name']\n",
        "CSV_COLUMN_NAMES2=['Odds_firstTeam','Odds_secondTeam','Rank_firstTeam','Rank_secondTeam','WinRate_firstTeam','WinRate_secondTeam','PistolWinRate_firstTeam','PistolWinRate_secondTeam',\n",
        "                  'playerAARating','playerAADpr','playerAAKast','playerAAImpact','playerAAAdr','playerAAKpr','playerAAHs','playerAAKD','playerAAGrenadeDmg',\n",
        "                  'playerABRating','playerABDpr','playerABKast','playerABImpact','playerABAdr','playerABKpr','playerABHs','playerABKD','playerABGrenadeDmg',\n",
        "                  'playerACRating','playerACDpr','playerACKast','playerACImpact','playerACAdr','playerACKpr','playerACHs','playerACKD','playerACGrenadeDmg',\n",
        "                  'playerADRating','playerADDpr','playerADKast','playerADImpact','playerADAdr','playerADKpr','playerADHs','playerADKD','playerADGrenadeDmg',\n",
        "                  'playerAERating','playerAEDpr','playerAEKast','playerAEImpact','playerAEAdr','playerAEKpr','playerAEHs','playerAEKD','playerAEGrenadeDmg',\n",
        "                  'playerBARating','playerBADpr','playerBAKast','playerBAImpact','playerBAAdr','playerBAKpr','playerBAHs','playerBAKD','playerBAGrenadeDmg',\n",
        "                  'playerBBRating','playerBBDpr','playerBBKast','playerBBImpact','playerBBAdr','playerBBKpr','playerBBHs','playerBBKD','playerBBGrenadeDmg',\n",
        "                  'playerBCRating','playerBCDpr','playerBCKast','playerBCImpact','playerBCAdr','playerBCKpr','playerBCHs','playerBCKD','playerBCGrenadeDmg',\n",
        "                  'playerBDRating','playerBDDpr','playerBDKast','playerBDImpact','playerBDAdr','playerBDKpr','playerBDHs','playerBDKD','playerBDGrenadeDmg',\n",
        "                  'playerBERating','playerBEDpr','playerBEKast','playerBEImpact','playerBEAdr','playerBEKpr','playerBEHs','playerBEKD','playerBEGrenadeDmg']\n",
        "\n",
        "train=pd.read_csv('/content/pokus.csv',sep=\";\",names=CSV_COLUMN_NAMES,error_bad_lines=False,header=None)#vytvoří dataframe z našeho csv souboru\n",
        "print(train.shape)#vypíše nám dimenzionalitu našeho dataframu (2, 3) 2 řádky 3 sloupce\n",
        "\n",
        "#následující 2 řádky nám upraví dva sloupce z textových na číselné formáty (category datatype)\n",
        "train['team_one_name']=pd.Categorical(train['team_one_name']).codes #sníží využití paměti z 1.2MB na 0.03 MB viz: https://towardsdatascience.com/staying-sane-while-adopting-pandas-categorical-datatypes-78dbd19dcd8a\n",
        "train['team_two_name']=pd.Categorical(train['team_two_name']).codes\n",
        "\n",
        "#Odstraním z dataframu následující sloupce (odkaz na zápas a jména týmů), jelikož jsem je využíval pouze při sběru dat\n",
        "train.pop('Match_link')\n",
        "train.pop('team_one_name')\n",
        "train.pop('team_two_name')\n",
        "#https://stackoverflow.com/questions/29576430/shuffle-dataframe-rows\n",
        "#frac=1 znamená, vrať všechny řádky\n",
        "train = train.sample(frac=1).reset_index(drop=True)\n",
        "#predictors nám vybere všechny sloupce, které jsou využity pro predikování výsledků neboli target_column\n",
        "target_column = ['Result'] \n",
        "\n",
        "predictionScaler=StandardScaler()\n",
        "y = train['Result'].values\n",
        "train.pop('Result')\n",
        "X = train.values\n"
      ],
      "execution_count": 47,
      "outputs": [
        {
          "output_type": "stream",
          "name": "stdout",
          "text": [
            "(18930, 102)\n"
          ]
        }
      ]
    },
    {
      "cell_type": "code",
      "metadata": {
        "colab": {
          "base_uri": "https://localhost:8080/"
        },
        "id": "U9XjiSx9fb_o",
        "outputId": "4068e8de-584a-4128-cb70-51112a74b9f0"
      },
      "source": [
        "#určíme outliers (odlehlé hodnoty, které by mohly být při tréninku pro model škodlivé)\n",
        "#zkráceně řečeno zjistíme odlehlou hodnotu tak, že ve svém okolí má oproti jiným hodnotám o dost méně \"sousedů\"\n",
        "#5% dat \n",
        "lof = LocalOutlierFactor(contamination=0.1,n_neighbors=96)\n",
        "yhat = lof.fit_predict(X)\n",
        "mask = yhat != -1\n",
        "X, y= X[mask, :], y[mask]\n",
        "print(X.shape)\n"
      ],
      "execution_count": 48,
      "outputs": [
        {
          "output_type": "stream",
          "name": "stdout",
          "text": [
            "(17037, 98)\n"
          ]
        }
      ]
    },
    {
      "cell_type": "code",
      "metadata": {
        "colab": {
          "base_uri": "https://localhost:8080/"
        },
        "id": "F6j-gbpOfdtg",
        "outputId": "269298ad-3179-487c-cb1e-9638792116a2"
      },
      "source": [
        "\n",
        "#rozdělíme náš dataframe na trénovací, testovací a validační dataset\n",
        "#testovací dataset bude 15% \n",
        "X_train, X_test, y_train, y_test = train_test_split(X, y, test_size=0.15)#32 #888 887\n",
        "\n",
        "#validační set bude 15% \n",
        "X_train, X_val, y_train, y_val = train_test_split(X_train, y_train, test_size=0.1764) # 0.1764 x 0.859 = 0.15 \n",
        "print(X_train.shape) \n",
        "print(X_test.shape)\n",
        "print(X_val.shape) \n",
        "\n",
        "#scalujeme data aby si model nemyslel, že větší číselný řád indikuje větší důležitost atributu\n",
        "#https://stackoverflow.com/questions/51237635/difference-between-standard-scaler-and-minmaxscaler\n",
        "#https://datascience.stackexchange.com/questions/43972/when-should-i-use-standardscaler-and-when-minmaxscaler\n",
        "\n",
        "#nepoužíváme minmaxscaler, protože naše data by měly být \"normálně\" distribuovány\n",
        "\n",
        "X_train = pd.DataFrame(X_train, columns=CSV_COLUMN_NAMES2)\n",
        "X_test=pd.DataFrame(X_test, columns=CSV_COLUMN_NAMES2)\n",
        "X_val=pd.DataFrame(X_val, columns=CSV_COLUMN_NAMES2)\n",
        "\n",
        "predictionScaler.fit(X_train)\n",
        "\n",
        "X_train=predictionScaler.transform(X_train)#fit transform na training data viz:https://stackoverflow.com/questions/49444262/normalize-data-before-or-after-split-of-training-and-testing-data\n",
        "X_test=predictionScaler.transform(X_test)\n",
        "X_val=predictionScaler.transform(X_val)"
      ],
      "execution_count": 49,
      "outputs": [
        {
          "output_type": "stream",
          "name": "stdout",
          "text": [
            "(11926, 98)\n",
            "(2556, 98)\n",
            "(2555, 98)\n"
          ]
        }
      ]
    },
    {
      "cell_type": "code",
      "metadata": {
        "colab": {
          "base_uri": "https://localhost:8080/",
          "height": 1000
        },
        "id": "DAdqGaX3CRHW",
        "outputId": "e0124470-3755-417a-a3a9-2fef17ee4996"
      },
      "source": [
        "#data máme připravena, tak vytvoříme sequential model, jelikož potřebujeme mít více vrstev, ale máme pouze 1 input (zápas) a output 0;1\n",
        "model = Sequential()\n",
        "model.add(keras.layers.InputLayer(input_shape=(98)))#https://towardsdatascience.com/17-rules-of-thumb-for-building-a-neural-network-93356f9930af\n",
        "model.add(keras.layers.Dropout(rate=0.2)) \n",
        "model.add(Dense(32,activation='relu'))\n",
        "model.add(keras.layers.Dropout(rate=0.2))\n",
        "model.add(Dense(16,activation='relu'))\n",
        "model.add(keras.layers.Dropout(rate=0.2))\n",
        "model.add(Dense(8,activation='relu'))\n",
        "model.add(keras.layers.Dropout(rate=0.2))\n",
        "model.add(Dense(1, activation='sigmoid'))\n",
        "\n",
        "model.compile(optimizer=tf.keras.optimizers.Adam(learning_rate=0.01), \n",
        "              loss=tf.keras.losses.BinaryCrossentropy(from_logits=False), #https://machinelearningmastery.com/how-to-choose-loss-functions-when-training-deep-learning-neural-networks/\n",
        "              metrics=['binary_accuracy'])\n",
        "\n",
        "reduce_lr_callback = tf.keras.callbacks.ReduceLROnPlateau(monitor='val_loss', factor=0.5, patience=3, min_lr=0.001,verbose=1)\n",
        "checkpoint_callback=tf.keras.callbacks.ModelCheckpoint('current_model.h5', monitor='val_loss', verbose=1, save_best_only=True)\n",
        "earlyStopping_callback = tf.keras.callbacks.EarlyStopping(monitor='val_loss', patience=10,verbose=1)#patience-kolik epoch se nezmění val_loss pak stop\n",
        "\n",
        "history = model.fit(X_train, y_train, epochs=200, shuffle=True,batch_size=128,validation_data=(X_val, y_val), \n",
        "                    callbacks=[reduce_lr_callback,checkpoint_callback,earlyStopping_callback])\n",
        "pred_train= model.predict(X_train)\n",
        "scores = model.evaluate(X_train, y_train, verbose=0)\n",
        "print('Accuracy on training data: {}% \\n Error on training data: {}'.format(scores[1], 1 - scores[1]))#úspěšnost na trénovacím setu   \n",
        "\n",
        "\n",
        "pred_test= model.predict(X_test)\n",
        "scores2 = model.evaluate(X_test, y_test, verbose=0)# zkusit změnit verbose zde a nahoře na 1 a 2 mělo by to zobrazovat více údajů při tréninku\n",
        "print('Accuracy on test data: {}% \\n Error on test data: {}'.format(scores2[1], 1 - scores2[1]))#úspěšnost na testovacím setu\n",
        "\n",
        "plt.plot(history.history['binary_accuracy'])\n",
        "plt.plot(history.history['val_binary_accuracy'])\n",
        "\n",
        "plt.title('model accuracy')\n",
        "plt.ylabel('binary_accuracy')\n",
        "plt.xlabel('epoch')\n",
        "plt.legend(['train', 'test'], loc='upper left')\n",
        "plt.show()\n",
        "plt.plot(history.history['loss'])\n",
        "plt.plot(history.history['val_loss'])\n",
        "plt.title('model loss')\n",
        "plt.ylabel('loss')\n",
        "plt.xlabel('epoch')\n",
        "plt.legend(['train', 'val'], loc='upper left')\n",
        "plt.show()\n",
        "\n"
      ],
      "execution_count": 314,
      "outputs": [
        {
          "output_type": "stream",
          "name": "stdout",
          "text": [
            "Epoch 1/200\n",
            "94/94 [==============================] - 1s 6ms/step - loss: 0.6607 - binary_accuracy: 0.6007 - val_loss: 0.6302 - val_binary_accuracy: 0.6446\n",
            "\n",
            "Epoch 00001: val_loss improved from inf to 0.63017, saving model to current_model.h5\n",
            "Epoch 2/200\n",
            "94/94 [==============================] - 0s 4ms/step - loss: 0.6313 - binary_accuracy: 0.6418 - val_loss: 0.6137 - val_binary_accuracy: 0.6560\n",
            "\n",
            "Epoch 00002: val_loss improved from 0.63017 to 0.61366, saving model to current_model.h5\n",
            "Epoch 3/200\n",
            "94/94 [==============================] - 0s 4ms/step - loss: 0.6265 - binary_accuracy: 0.6501 - val_loss: 0.6162 - val_binary_accuracy: 0.6622\n",
            "\n",
            "Epoch 00003: val_loss did not improve from 0.61366\n",
            "Epoch 4/200\n",
            "94/94 [==============================] - 0s 4ms/step - loss: 0.6217 - binary_accuracy: 0.6616 - val_loss: 0.6074 - val_binary_accuracy: 0.6669\n",
            "\n",
            "Epoch 00004: val_loss improved from 0.61366 to 0.60745, saving model to current_model.h5\n",
            "Epoch 5/200\n",
            "94/94 [==============================] - 0s 5ms/step - loss: 0.6216 - binary_accuracy: 0.6573 - val_loss: 0.6070 - val_binary_accuracy: 0.6638\n",
            "\n",
            "Epoch 00005: val_loss improved from 0.60745 to 0.60702, saving model to current_model.h5\n",
            "Epoch 6/200\n",
            "94/94 [==============================] - 0s 5ms/step - loss: 0.6173 - binary_accuracy: 0.6612 - val_loss: 0.6066 - val_binary_accuracy: 0.6673\n",
            "\n",
            "Epoch 00006: val_loss improved from 0.60702 to 0.60661, saving model to current_model.h5\n",
            "Epoch 7/200\n",
            "94/94 [==============================] - 0s 4ms/step - loss: 0.6193 - binary_accuracy: 0.6591 - val_loss: 0.6109 - val_binary_accuracy: 0.6614\n",
            "\n",
            "Epoch 00007: val_loss did not improve from 0.60661\n",
            "Epoch 8/200\n",
            "94/94 [==============================] - 0s 4ms/step - loss: 0.6165 - binary_accuracy: 0.6648 - val_loss: 0.6064 - val_binary_accuracy: 0.6618\n",
            "\n",
            "Epoch 00008: val_loss improved from 0.60661 to 0.60639, saving model to current_model.h5\n",
            "Epoch 9/200\n",
            "94/94 [==============================] - 0s 4ms/step - loss: 0.6171 - binary_accuracy: 0.6636 - val_loss: 0.6049 - val_binary_accuracy: 0.6673\n",
            "\n",
            "Epoch 00009: val_loss improved from 0.60639 to 0.60489, saving model to current_model.h5\n",
            "Epoch 10/200\n",
            "94/94 [==============================] - 0s 4ms/step - loss: 0.6138 - binary_accuracy: 0.6700 - val_loss: 0.6129 - val_binary_accuracy: 0.6701\n",
            "\n",
            "Epoch 00010: val_loss did not improve from 0.60489\n",
            "Epoch 11/200\n",
            "94/94 [==============================] - 0s 4ms/step - loss: 0.6138 - binary_accuracy: 0.6646 - val_loss: 0.6142 - val_binary_accuracy: 0.6521\n",
            "\n",
            "Epoch 00011: val_loss did not improve from 0.60489\n",
            "Epoch 12/200\n",
            "94/94 [==============================] - 0s 4ms/step - loss: 0.6143 - binary_accuracy: 0.6676 - val_loss: 0.6073 - val_binary_accuracy: 0.6642\n",
            "\n",
            "Epoch 00012: ReduceLROnPlateau reducing learning rate to 0.004999999888241291.\n",
            "\n",
            "Epoch 00012: val_loss did not improve from 0.60489\n",
            "Epoch 13/200\n",
            "94/94 [==============================] - 0s 4ms/step - loss: 0.6115 - binary_accuracy: 0.6681 - val_loss: 0.6047 - val_binary_accuracy: 0.6622\n",
            "\n",
            "Epoch 00013: val_loss improved from 0.60489 to 0.60467, saving model to current_model.h5\n",
            "Epoch 14/200\n",
            "94/94 [==============================] - 0s 4ms/step - loss: 0.6111 - binary_accuracy: 0.6695 - val_loss: 0.6124 - val_binary_accuracy: 0.6744\n",
            "\n",
            "Epoch 00014: val_loss did not improve from 0.60467\n",
            "Epoch 15/200\n",
            "94/94 [==============================] - 0s 4ms/step - loss: 0.6087 - binary_accuracy: 0.6695 - val_loss: 0.6068 - val_binary_accuracy: 0.6654\n",
            "\n",
            "Epoch 00015: val_loss did not improve from 0.60467\n",
            "Epoch 16/200\n",
            "94/94 [==============================] - 0s 5ms/step - loss: 0.6078 - binary_accuracy: 0.6707 - val_loss: 0.6044 - val_binary_accuracy: 0.6689\n",
            "\n",
            "Epoch 00016: val_loss improved from 0.60467 to 0.60444, saving model to current_model.h5\n",
            "Epoch 17/200\n",
            "94/94 [==============================] - 0s 5ms/step - loss: 0.6082 - binary_accuracy: 0.6715 - val_loss: 0.6046 - val_binary_accuracy: 0.6673\n",
            "\n",
            "Epoch 00017: val_loss did not improve from 0.60444\n",
            "Epoch 18/200\n",
            "94/94 [==============================] - 0s 5ms/step - loss: 0.6088 - binary_accuracy: 0.6704 - val_loss: 0.6048 - val_binary_accuracy: 0.6689\n",
            "\n",
            "Epoch 00018: val_loss did not improve from 0.60444\n",
            "Epoch 19/200\n",
            "94/94 [==============================] - 0s 4ms/step - loss: 0.6055 - binary_accuracy: 0.6780 - val_loss: 0.6025 - val_binary_accuracy: 0.6681\n",
            "\n",
            "Epoch 00019: val_loss improved from 0.60444 to 0.60246, saving model to current_model.h5\n",
            "Epoch 20/200\n",
            "94/94 [==============================] - 0s 4ms/step - loss: 0.6100 - binary_accuracy: 0.6691 - val_loss: 0.6054 - val_binary_accuracy: 0.6642\n",
            "\n",
            "Epoch 00020: val_loss did not improve from 0.60246\n",
            "Epoch 21/200\n",
            "94/94 [==============================] - 0s 5ms/step - loss: 0.6051 - binary_accuracy: 0.6745 - val_loss: 0.6079 - val_binary_accuracy: 0.6583\n",
            "\n",
            "Epoch 00021: val_loss did not improve from 0.60246\n",
            "Epoch 22/200\n",
            "94/94 [==============================] - 0s 5ms/step - loss: 0.6049 - binary_accuracy: 0.6735 - val_loss: 0.6068 - val_binary_accuracy: 0.6626\n",
            "\n",
            "Epoch 00022: ReduceLROnPlateau reducing learning rate to 0.0024999999441206455.\n",
            "\n",
            "Epoch 00022: val_loss did not improve from 0.60246\n",
            "Epoch 23/200\n",
            "94/94 [==============================] - 0s 4ms/step - loss: 0.6022 - binary_accuracy: 0.6752 - val_loss: 0.6039 - val_binary_accuracy: 0.6654\n",
            "\n",
            "Epoch 00023: val_loss did not improve from 0.60246\n",
            "Epoch 24/200\n",
            "94/94 [==============================] - 0s 4ms/step - loss: 0.6007 - binary_accuracy: 0.6807 - val_loss: 0.6065 - val_binary_accuracy: 0.6650\n",
            "\n",
            "Epoch 00024: val_loss did not improve from 0.60246\n",
            "Epoch 25/200\n",
            "94/94 [==============================] - 0s 4ms/step - loss: 0.6042 - binary_accuracy: 0.6774 - val_loss: 0.6045 - val_binary_accuracy: 0.6673\n",
            "\n",
            "Epoch 00025: ReduceLROnPlateau reducing learning rate to 0.0012499999720603228.\n",
            "\n",
            "Epoch 00025: val_loss did not improve from 0.60246\n",
            "Epoch 26/200\n",
            "94/94 [==============================] - 0s 4ms/step - loss: 0.5994 - binary_accuracy: 0.6801 - val_loss: 0.6043 - val_binary_accuracy: 0.6669\n",
            "\n",
            "Epoch 00026: val_loss did not improve from 0.60246\n",
            "Epoch 27/200\n",
            "94/94 [==============================] - 0s 4ms/step - loss: 0.5990 - binary_accuracy: 0.6807 - val_loss: 0.6047 - val_binary_accuracy: 0.6669\n",
            "\n",
            "Epoch 00027: val_loss did not improve from 0.60246\n",
            "Epoch 28/200\n",
            "94/94 [==============================] - 0s 5ms/step - loss: 0.6026 - binary_accuracy: 0.6807 - val_loss: 0.6051 - val_binary_accuracy: 0.6693\n",
            "\n",
            "Epoch 00028: ReduceLROnPlateau reducing learning rate to 0.001.\n",
            "\n",
            "Epoch 00028: val_loss did not improve from 0.60246\n",
            "Epoch 29/200\n",
            "94/94 [==============================] - 0s 4ms/step - loss: 0.6009 - binary_accuracy: 0.6741 - val_loss: 0.6041 - val_binary_accuracy: 0.6685\n",
            "\n",
            "Epoch 00029: val_loss did not improve from 0.60246\n",
            "Epoch 00029: early stopping\n",
            "Accuracy on training data: 0.7075297832489014% \n",
            " Error on training data: 0.29247021675109863\n",
            "Accuracy on test data: 0.6686228513717651% \n",
            " Error on test data: 0.33137714862823486\n"
          ]
        },
        {
          "output_type": "display_data",
          "data": {
            "image/png": "[encoded data removed]",
            "text/plain": [
              "<Figure size 432x288 with 1 Axes>"
            ]
          },
          "metadata": {
            "needs_background": "light"
          }
        },
        {
          "output_type": "display_data",
          "data": {
            "image/png": "[encoded data removed]",
            "text/plain": [
              "<Figure size 432x288 with 1 Axes>"
            ]
          },
          "metadata": {
            "needs_background": "light"
          }
        }
      ]
    },
    {
      "cell_type": "code",
      "metadata": {
        "colab": {
          "base_uri": "https://localhost:8080/"
        },
        "id": "-MBS6OOAJNxv",
        "outputId": "77b4e259-c212-4ef1-836b-17f622dd58bd"
      },
      "source": [
        "#model.save('/content/save/703model.h5')\n",
        "model= keras.models.load_model(\"current_model.h5\")\n",
        "scaledData=predictionScaler.transform(X)\n",
        "pred_test= model.predict(scaledData)\n",
        "scores2 = model.evaluate(scaledData, y, verbose=1)# zkusit změnit verbose zde a nahoře na 1 a 2 mělo by to zobrazovat více údajů při tréninku\n",
        "print('Accuracy on the whole dataset: {}% \\n Error on the whole dataset: {}'.format(scores2[1], 1 - scores2[1]))#úspěšnost na testovacím setu\n",
        "\n",
        "\n",
        "#pickle.dump(predictionScaler, open(\"/content/save/scaler703.pkl\", 'wb'))#save the scaler "
      ],
      "execution_count": 315,
      "outputs": [
        {
          "output_type": "stream",
          "name": "stdout",
          "text": [
            "533/533 [==============================] - 1s 2ms/step - loss: 0.5860 - binary_accuracy: 0.6893\n",
            "Accuracy on the whole dataset: 0.6893232464790344% \n",
            " Error on the whole dataset: 0.3106767535209656\n"
          ]
        }
      ]
    },
    {
      "cell_type": "code",
      "metadata": {
        "colab": {
          "base_uri": "https://localhost:8080/"
        },
        "id": "GWKcVOt9eBe7",
        "outputId": "18ce7c9d-7c86-4551-9e97-ff057f98cc0c"
      },
      "source": [
        "predictionScaler = pickle.load(open(\"scaler703.pkl\", 'rb'))\n",
        "Xnew=np.array([[2.65,1.45,91,33,0.69,0.52,0.5,0.469,1.14,0.59,0.73,1.09,73.4,0.71,0.3,1.20,2.8,1.13,0.63,0.71,1.2,75.6,0.72,0.62,1.15,3.5,1.1,0.66,0.73,1.05,78.3,0.66,0.54,1.00,3.5,1.09,0.64,0.73,0.94,76.5,0.7,0.7,1.09,3.1,0.97,0.64,0.73,0.83,65.0,0.57,0.51,0.88,5.1,1.18,0.64,0.74,1.13,83.0,0.77,0.53,1.21,4.7,1.15,0.6,0.72,1.16,76.3,0.72,0.34,1.19,4.2,1.05,0.73,0.69,1.14,78.6,0.68,0.58,0.93,5.8,1.02,0.64,0.73,0.86,69.2,0.65,0.45,1.02,3.3,0.84,0.71,0.65,0.77,60.4,0.54,0.43,0.77,3.8],\n",
        "               [1.84,1.9,98,111,0.9,0.75,0.5,0.5,1.4,0.57,0.81,1.31,93.4,0.92,0.51,1.62,6.2,1.31,0.63,0.76,1.38,90.8,0.79,0.45,1.25,11.3,1.19,0.52,0.77,1.07,70.8,0.73,0.59,1.41,5.7,1.18,0.59,0.75,1.12,75.8,0.74,0.23,1.25,6.1,1.17,0.62,0.74,1.21,81.4,0.67,0.47,1.07,9.7,1.28,0.54,0.73,1.28,79.9,0.85,0.38,1.57,1.9,1.18,0.62,0.75,1.09,81.7,0.73,0.53,1.17,4.5,1.13,0.62,0.74,1.08,75.9,0.73,0.54,1.16,4.6,1.11,0.65,0.74,1.09,76.3,0.69,0.41,1.06,4.5,1.12,0.62,0.76,0.94,77.1,0.67,0.54,1.08,5.4],\n",
        "               [2.02,1.7,89,50,0.63,0.53,0.5,0.456,1.36,0.64,0.77,1.46,95.3,0.88,0.6,1.36,7.8,1.2,0.59,0.76,1.09,81.0,0.76,0.59,1.30,3.9,1.16,0.6,0.71,1.24,76.3,0.72,0.28,1.20,4.0,1.08,0.7,0.7,1.21,75.5,0.68,0.51,0.97,5.1,1.01,0.56,0.73,0.82,63.2,0.59,0.62,1.06,4.3,1.17,0.58,0.73,1.17,76.0,0.72,0.28,1.24,4.1,1.09,0.7,0.67,1.21,80.5,0.72,0.59,1.03,5.8,1.07,0.64,0.71,1.04,74.0,0.66,0.47,1.03,5.2,1.01,0.65,0.68,0.95,72.7,0.65,0.53,1.00,4.9,0.88,0.66,0.67,0.75,61.3,0.53,0.47,0.80,4.7],\n",
        "               [1.79,1.95,22,20,0.44,0.59,0.5,0.491,1.05,0.63,0.71,0.87,76.9,0.66,0.5,1.04,4.5,1.03,0.68,0.67,1.1,72.0,0.68,0.58,1.01,4.5,1.0,0.65,0.68,0.97,65.6,0.62,0.28,0.96,3.2,0.95,0.65,0.69,0.82,68.2,0.59,0.41,0.92,5.1,0.92,0.75,0.62,1.02,70.8,0.61,0.5,0.81,4.9,1.19,0.56,0.73,1.12,75.9,0.74,0.29,1.33,4.1,1.16,0.66,0.7,1.2,86.6,0.76,0.44,1.15,8.0,1.11,0.65,0.73,1.04,75.8,0.72,0.55,1.11,3.2,1.02,0.66,0.72,0.99,68.0,0.62,0.54,0.94,3.9,0.93,0.68,0.69,0.82,67.5,0.58,0.6,0.84,4.2],\n",
        "               [1.54,2.41,93,95,0.58,0.57,0.5,0.5,1.18,0.64,0.77,1.11,80.8,0.72,0.52,1.12,3.2,1.18,0.63,0.74,1.27,73.1,0.73,0.27,1.17,2.1,1.16,0.63,0.74,1.1,80.3,0.75,0.47,1.19,4.0,1.03,0.64,0.7,0.92,73.0,0.63,0.49,0.98,6.0,1.1375,0.635,0.7375,1.1,76.8,0.7075,0.4375,1.115,3.825,1.45,0.6,0.8,1.5,94.5,0.94,0.39,1.58,6.8,1.33,0.64,0.76,1.34,89.2,0.85,0.63,1.32,5.6,1.04,0.6,0.75,0.82,70.5,0.62,0.6,1.03,4.5,1.03,0.63,0.66,1.08,69.6,0.6,0.5,0.95,6.7,0.93,0.64,0.72,0.81,58.0,0.53,0.52,0.82,5.1],\n",
        "               [2.7,1.44,84,45,0.53,0.41,0.51,0.606,1.24,0.66,0.73,1.31,88.1,0.82,0.53,1.25,3.2,1.13,0.68,0.7,1.21,80.4,0.74,0.5,1.09,5.6,1.11,0.65,0.71,1.17,73.1,0.71,0.32,1.09,1.9,0.97,0.68,0.69,0.83,70.6,0.61,0.52,0.90,4.7,1.1125,0.6675000000000001,0.7074999999999999,1.13,78.05,0.72,0.4675,1.0825,3.8500000000000005,1.19,0.56,0.75,1.18,72.2,0.73,0.27,1.31,2.6,1.12,0.66,0.69,1.21,79.7,0.72,0.52,1.08,6.5,0.97,0.69,0.68,0.9,71.2,0.62,0.53,0.91,7.9,0.95,0.69,0.66,0.95,69.6,0.61,0.61,0.89,4.2,0.94,0.66,0.69,0.81,67.5,0.58,0.53,0.88,5.2],\n",
        "               [2.13,1.66,54,38,0.52,0.43,0.542,0.433,1.11,0.68,0.7,1.14,78.8,0.75,0.56,1.10,4.5,1.08,0.64,0.72,0.98,75.8,0.69,0.46,1.09,3.5,1.03,0.68,0.69,1.06,74.9,0.66,0.46,0.96,6.1,1.03,0.7,0.69,1.09,73.9,0.66,0.67,0.94,6.8,0.98,0.62,0.69,0.88,64.6,0.59,0.26,0.95,4.9,1.09,0.64,0.71,1.06,76.8,0.72,0.52,1.12,3.3,1.07,0.64,0.71,1.08,73.6,0.67,0.57,1.05,5.9,1.05,0.63,0.69,1.05,69.7,0.66,0.29,1.05,2.9,0.99,0.7,0.68,0.99,74.1,0.61,0.44,0.87,5.3,0.98,0.64,0.71,0.87,67.7,0.61,0.47,0.95,3.7],\n",
        "               [2.08,1.7,33,42,0.52,0.5,0.469,0.521,1.18,0.64,0.74,1.13,83.0,0.77,0.53,1.21,4.7,1.15,0.6,0.72,1.16,76.3,0.72,0.34,1.19,4.2,1.05,0.73,0.69,1.14,78.6,0.68,0.58,0.93,5.8,1.02,0.64,0.73,0.86,69.2,0.65,0.45,1.02,3.3,0.84,0.71,0.65,0.77,60.4,0.54,0.43,0.77,3.8,1.15,0.7,0.71,1.24,85.4,0.75,0.52,1.08,4.3,1.09,0.64,0.7,1.04,75.6,0.73,0.36,1.14,3.4,1.02,0.64,0.7,0.92,71.6,0.63,0.53,0.98,5.1,0.99,0.67,0.68,0.94,69.5,0.65,0.55,0.97,3.1,0.98,0.67,0.69,0.92,69.6,0.61,0.5,0.92,4.6],\n",
        "               [1.52,2.46,26,52,0.61,0.54,0.486,0.534,1.17,0.76,0.72,1.28,87.5,0.81,0.65,1.07,5.9,1.15,0.59,0.72,1.12,73.7,0.73,0.32,1.24,3.0,1.1,0.65,0.74,0.99,77.3,0.68,0.45,1.05,6.4,1.05,0.65,0.71,1.01,73.4,0.66,0.46,1.02,3.1,0.96,0.65,0.72,0.84,66.2,0.57,0.52,0.87,8.2,1.15,0.64,0.73,1.21,76.9,0.73,0.35,1.14,6.0,1.14,0.66,0.74,1.11,80.1,0.74,0.55,1.13,5.3,1.0,0.68,0.68,1.01,69.8,0.64,0.56,0.94,3.7,0.94,0.69,0.66,0.92,70.5,0.6,0.49,0.87,6.3,1.0575,0.6675,0.7025,1.0625,74.325,0.6775,0.4875,1.0199999999999998,5.325],\n",
        "               [1.57,2.31,73,99,0.8,0.57,0.478,0.5,1.34,0.62,0.79,1.34,90.5,0.84,0.44,1.34,8.2,1.17,0.63,0.75,1.14,80.0,0.73,0.47,1.17,6.0,1.16,0.72,0.72,1.21,85.9,0.79,0.33,1.10,3.7,1.0,0.7,0.69,1.07,69.9,0.66,0.56,0.94,4.0,1.1675,0.6675,0.7374999999999999,1.19,81.57499999999999,0.755,0.45,1.1375,5.475,1.21,0.6,0.73,1.24,78.0,0.79,0.36,1.32,1.7,1.08,0.67,0.66,1.09,80.9,0.71,0.5,1.07,3.6,1.05,0.68,0.69,1.11,73.4,0.64,0.55,0.94,3.5,0.99,0.68,0.67,0.95,73.5,0.65,0.53,0.95,3.5,0.93,0.68,0.7,0.74,66.0,0.59,0.68,0.87,1.3], \n",
        "               [2.14,1.67,131,112,0.37,0.75,0.492,0.5,1.09,0.64,0.7,1.11,73.6,0.71,0.34,1.12,2.4,1.05,0.76,0.68,1.15,82.7,0.72,0.38,0.95,4.9,1.0,0.71,0.7,0.96,73.8,0.66,0.51,0.93,4.3,0.86,0.71,0.68,0.75,62.8,0.56,0.38,0.79,4.9,1.0,0.705,0.6900000000000001,0.9924999999999999,73.22500000000001,0.6625,0.40249999999999997,0.9475000000000001,4.125,1.15,0.65,0.71,1.25,77.7,0.77,0.54,1.18,2.8,1.2,0.65,0.7,1.38,78.2,0.81,0.2,1.25,1.9,1.08,0.69,0.72,0.95,83.2,0.7,0.44,1.02,6.9,1.03,0.7,0.71,0.97,77.8,0.65,0.45,0.93,7.0,0.97,0.71,0.69,0.94,71.8,0.62,0.41,0.87,3.5],\n",
        "               [1.55,2.35,40,49,0.43,0.5,0.489,0.531,1.13,0.6,0.71,1.12,72.6,0.73,0.28,1.21,2.5,1.04,0.79,0.69,1.18,82.4,0.67,0.37,0.84,6.3,1.03,0.74,0.68,1.08,76.6,0.72,0.5,0.97,3.3,1.01,0.63,0.69,0.93,69.9,0.63,0.6,1.01,4.2,0.91,0.64,0.67,0.81,60.4,0.53,0.44,0.83,5.3,1.16,0.65,0.72,1.16,84.2,0.76,0.51,1.17,6.5,1.16,0.63,0.71,1.29,75.7,0.73,0.33,1.16,3.0,1.16,0.63,0.74,1.14,79.5,0.76,0.37,1.20,6.9,1.01,0.69,0.69,1.0,72.3,0.65,0.4,0.95,3.5,0.99,0.67,0.68,0.96,72.2,0.64,0.48,0.95,5.7]\n",
        "])\n",
        "Xnew = pd.DataFrame(Xnew, columns=CSV_COLUMN_NAMES2)\n",
        "pokus=predictionScaler.transform(Xnew)\n",
        "model= keras.models.load_model(\"703model.h5\")\n",
        "ynew=(model.predict([pokus]))\n",
        "#ynew=(model.predict_classes([Xnew]))\n",
        "print(ynew)\n"
      ],
      "execution_count": 213,
      "outputs": [
        {
          "output_type": "stream",
          "name": "stdout",
          "text": [
            "[[0.55200636]\n",
            " [0.5976912 ]\n",
            " [0.5047156 ]\n",
            " [0.5788419 ]\n",
            " [0.4106457 ]\n",
            " [0.6727999 ]\n",
            " [0.56046295]\n",
            " [0.5981078 ]\n",
            " [0.3094539 ]\n",
            " [0.3162776 ]\n",
            " [0.6393296 ]\n",
            " [0.30556357]]\n"
          ]
        }
      ]
    },
    {
      "cell_type": "markdown",
      "metadata": {
        "id": "_y-0x3EQ37uB"
      },
      "source": [
        ""
      ]
    },
    {
      "cell_type": "code",
      "metadata": {
        "id": "3KytdX4WSYkQ",
        "colab": {
          "base_uri": "https://localhost:8080/"
        },
        "outputId": "89b29909-f49d-4d55-d4a9-3870ec31b7b8"
      },
      "source": [
        "n = 300 # Max number of neighbours you want to consider\n",
        "param_grid = {'n_neighbors': np.arange(n)}\n",
        "grid = GridSearchCV(KNeighborsClassifier(), param_grid)\n",
        "grid.fit(X,y)\n",
        "print(grid.best_params_)\n",
        "#pro 300 nabízí 153"
      ],
      "execution_count": 316,
      "outputs": [
        {
          "output_type": "stream",
          "name": "stderr",
          "text": [
            "/usr/local/lib/python3.7/dist-packages/sklearn/model_selection/_validation.py:536: FitFailedWarning: Estimator fit failed. The score on this train-test partition for these parameters will be set to nan. Details: \n",
            "ValueError: Expected n_neighbors > 0. Got 0\n",
            "\n",
            "  FitFailedWarning)\n",
            "/usr/local/lib/python3.7/dist-packages/sklearn/model_selection/_validation.py:536: FitFailedWarning: Estimator fit failed. The score on this train-test partition for these parameters will be set to nan. Details: \n",
            "ValueError: Expected n_neighbors > 0. Got 0\n",
            "\n",
            "  FitFailedWarning)\n",
            "/usr/local/lib/python3.7/dist-packages/sklearn/model_selection/_validation.py:536: FitFailedWarning: Estimator fit failed. The score on this train-test partition for these parameters will be set to nan. Details: \n",
            "ValueError: Expected n_neighbors > 0. Got 0\n",
            "\n",
            "  FitFailedWarning)\n",
            "/usr/local/lib/python3.7/dist-packages/sklearn/model_selection/_validation.py:536: FitFailedWarning: Estimator fit failed. The score on this train-test partition for these parameters will be set to nan. Details: \n",
            "ValueError: Expected n_neighbors > 0. Got 0\n",
            "\n",
            "  FitFailedWarning)\n",
            "/usr/local/lib/python3.7/dist-packages/sklearn/model_selection/_validation.py:536: FitFailedWarning: Estimator fit failed. The score on this train-test partition for these parameters will be set to nan. Details: \n",
            "ValueError: Expected n_neighbors > 0. Got 0\n",
            "\n",
            "  FitFailedWarning)\n"
          ]
        },
        {
          "output_type": "stream",
          "name": "stdout",
          "text": [
            "{'n_neighbors': 153}\n"
          ]
        }
      ]
    },
    {
      "cell_type": "code",
      "metadata": {
        "id": "D5XU6SwMEp5r"
      },
      "source": [
        "pd.set_option(\"display.max_rows\", 999)\n",
        "pd.set_option(\"display.max_columns\", 999)\n",
        "pd.set_option(\"expand_frame_repr\", True)\n",
        "pd.set_option(\"large_repr\", \"info\")\n",
        "drive.mount('/content/drive')\n",
        "\n"
      ],
      "execution_count": null,
      "outputs": []
    },
    {
      "cell_type": "markdown",
      "metadata": {
        "id": "fhmwsYYngDG0"
      },
      "source": [
        "\n",
        "poznatky-vypadá to, že grenade damage každého hráče je nadbytečná a síť bez této informace vykazuje lepší výsledky!!\n",
        "\n",
        "optimální batch_size je 128 zjištěno zkoušením\n",
        "\n",
        "kernel inity\n",
        "he_uniform>he_normal\n",
        "lecun uniform>lecun normal \n",
        "orthogonal a variance scaling použitelné\n",
        "\n",
        "bias inity\n",
        "lecun normal >he normal, variance_scaling\n",
        "https://www.tensorflow.org/api_docs/python/tf/keras/initializers\n",
        "val loss u callbacků nebo val_accuracy?\n",
        "model.add(Dense(512, kernel_initializer=tf.initializers.lecun_uniform,bias_initializer=tf.initializers.lecun_normal))\n",
        "\n",
        "nejlepší model měl zatím 512,256,128 i když to není doporučováno"
      ]
    }
  ]
}