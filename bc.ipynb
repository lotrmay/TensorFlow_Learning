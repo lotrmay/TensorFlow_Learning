{
  "nbformat": 4,
  "nbformat_minor": 0,
  "metadata": {
    "accelerator": "GPU",
    "colab": {
      "name": "bc.ipynb",
      "provenance": [],
      "collapsed_sections": [],
      "authorship_tag": "ABX9TyOfArKpFQ4OZBs0g9SoBPdY",
      "include_colab_link": true
    },
    "kernelspec": {
      "display_name": "Python 3",
      "name": "python3"
    },
    "language_info": {
      "name": "python"
    }
  },
  "cells": [
    {
      "cell_type": "markdown",
      "metadata": {
        "id": "view-in-github",
        "colab_type": "text"
      },
      "source": [
        "<a href=\"https://colab.research.google.com/github/lotrmay/TensorFlow_Learning/blob/master/bc.ipynb\" target=\"_parent\"><img src=\"https://colab.research.google.com/assets/colab-badge.svg\" alt=\"Open In Colab\"/></a>"
      ]
    },
    {
      "cell_type": "code",
      "metadata": {
        "colab": {
          "base_uri": "https://localhost:8080/"
        },
        "id": "WCY-aVPMK1aO",
        "outputId": "96ec9bf0-a29e-4e84-8433-77e3cbbef557"
      },
      "source": [
        "%tensorflow_version 2.x\n",
        "import tensorflow as tf\n",
        "import pickle\n",
        "import keras\n",
        "import numpy as np #better arrays in python, lepší práce s multidimenzionálními poli\n",
        "import pandas as pd #data analytics tool, lepší manipulace s daty, dokáže například cut outnout column\n",
        "import matplotlib.pyplot as plt #vizualizace tabulek a grafů\n",
        "import sklearn\n",
        "from google.colab import drive\n",
        "\n",
        "\n",
        "#CSV_COLUMN_NAMES označuje nadpisy sloupců v csv soubour\n",
        "CSV_COLUMN_NAMES=['Odds_firstTeam','Odds_secondTeam','Rank_firstTeam','Rank_secondTeam','WinRate_firstTeam','WinRate_secondTeam','PistolWinRate_firstTeam','PistolWinRate_secondTeam',\n",
        "                  'playerAARating','playerAADpr','playerAAKast','playerAAImpact','playerAAAdr','playerAAKpr','playerAAHs','playerAAKD','playerAAGrenadeDmg',\n",
        "                  'playerABRating','playerABDpr','playerABKast','playerABImpact','playerABAdr','playerABKpr','playerABHs','playerABKD','playerABGrenadeDmg',\n",
        "                  'playerACRating','playerACDpr','playerACKast','playerACImpact','playerACAdr','playerACKpr','playerACHs','playerACKD','playerACGrenadeDmg',\n",
        "                  'playerADRating','playerADDpr','playerADKast','playerADImpact','playerADAdr','playerADKpr','playerADHs','playerADKD','playerADGrenadeDmg',\n",
        "                  'playerAERating','playerAEDpr','playerAEKast','playerAEImpact','playerAEAdr','playerAEKpr','playerAEHs','playerAEKD','playerAEGrenadeDmg',\n",
        "                  'playerBARating','playerBADpr','playerBAKast','playerBAImpact','playerBAAdr','playerBAKpr','playerBAHs','playerBAKD','playerBAGrenadeDmg',\n",
        "                  'playerBBRating','playerBBDpr','playerBBKast','playerBBImpact','playerBBAdr','playerBBKpr','playerBBHs','playerBBKD','playerBBGrenadeDmg',\n",
        "                  'playerBCRating','playerBCDpr','playerBCKast','playerBCImpact','playerBCAdr','playerBCKpr','playerBCHs','playerBCKD','playerBCGrenadeDmg',\n",
        "                  'playerBDRating','playerBDDpr','playerBDKast','playerBDImpact','playerBDAdr','playerBDKpr','playerBDHs','playerBDKD','playerBDGrenadeDmg',\n",
        "                  'playerBERating','playerBEDpr','playerBEKast','playerBEImpact','playerBEAdr','playerBEKpr','playerBEHs','playerBEKD','playerBEGrenadeDmg','Match_link','Result','team_one_name','team_two_name']\n",
        "\n",
        "dataset=pd.read_csv('/content/data.csv',sep=\";\",names=CSV_COLUMN_NAMES,error_bad_lines=False,header=None)#vytvoří dataframe z našeho csv souboru\n",
        "print(dataset.shape)#vypíše nám dimenzionalitu našeho dataframu např.(2, 3) 2 řádky 3 sloupce\n",
        "\n",
        "#následující 2 řádky nám upraví dva sloupce z textových na číselné formáty (category datatype)\n",
        "dataset['team_one_name']=pd.Categorical(dataset['team_one_name']).codes #sníží využití paměti z 1.2MB na 0.03 MB viz: https://towardsdatascience.com/staying-sane-while-adopting-pandas-categorical-datatypes-78dbd19dcd8a\n",
        "dataset['team_two_name']=pd.Categorical(dataset['team_two_name']).codes\n",
        "\n",
        "#Odstraním z dataframu následující sloupce (odkaz na zápas a jména týmů), jelikož jsem je využíval pouze při sběru dat\n",
        "dataset.pop('Match_link')\n",
        "dataset.pop('team_one_name')\n",
        "dataset.pop('team_two_name')\n",
        "#https://stackoverflow.com/questions/29576430/shuffle-dataframe-rows\n",
        "#frac=1 znamená, vrať všechny řádky\n",
        "dataset = dataset.sample(frac=1).reset_index(drop=True) #náhodně zamícháme řádky (můžeme využít seed)\n",
        "\n",
        "main_scaler=sklearn.preprocessing.StandardScaler()#standardscaler narozdíl od minmaxscaleru vykazuje o 2 procenta lepší přesnost, navíc je logické ho použít\n",
        "y = dataset['Result'].values\n",
        "dataset.pop('Result')\n",
        "X = dataset.values\n"
      ],
      "execution_count": 213,
      "outputs": [
        {
          "output_type": "stream",
          "name": "stdout",
          "text": [
            "(18930, 102)\n"
          ]
        }
      ]
    },
    {
      "cell_type": "code",
      "metadata": {
        "colab": {
          "base_uri": "https://localhost:8080/"
        },
        "id": "jL-_SH1Afa5K",
        "outputId": "017d8822-7ee9-40f4-e524-69916986ef1d"
      },
      "source": [
        "#určíme outliers (odlehlé hodnoty, které by mohly být při tréninku pro model škodlivé)\n",
        "#zkráceně řečeno zjistíme odlehlou hodnotu tak, že ve svém okolí má oproti jiným hodnotám o dost méně \"sousedů\"\n",
        "#5% dat \n",
        "#https://machinelearningmastery.com/model-based-outlier-detection-and-removal-in-python/\n",
        "#https://datascience.stackexchange.com/questions/75702/when-should-you-remove-outliers\n",
        "from sklearn.ensemble import IsolationForest #0.412 mae\n",
        "from sklearn.svm import OneClassSVM #0.412 mae\n",
        "from sklearn.covariance import EllipticEnvelope #0.412 mae\n",
        "#lof Minimum Covariance Determinant One-Class SVM\n",
        "iso = LocalOutlierFactor(contamination=0.05)\n",
        "yhat = iso.fit_predict(X)\n",
        "# select all rows that are not outliers\n",
        "mask = yhat != -1\n",
        "X, y = X[mask, :], y[mask]\n",
        "# summarize the shape of the updated training dataset\n",
        "print(X.shape, y.shape)\n",
        "yhat = model.predict(X_test)\n",
        "# evaluate predictions\n",
        "#mae = sklearn.metrics.mean_absolute_error(y_test, yhat)\n",
        "#print('MAE: %.3f' % mae)"
      ],
      "execution_count": 214,
      "outputs": [
        {
          "output_type": "stream",
          "name": "stdout",
          "text": [
            "(17983, 98) (17983,)\n"
          ]
        }
      ]
    },
    {
      "cell_type": "code",
      "metadata": {
        "colab": {
          "base_uri": "https://localhost:8080/"
        },
        "id": "F6j-gbpOfdtg",
        "outputId": "74343822-ab9b-43b9-e2e9-b3a1096aeff1"
      },
      "source": [
        "#rozdělíme náš dataframe na trénovací, testovací a validační dataset\n",
        "#testovací dataset bude 15% \n",
        "X_train, X_test, y_train, y_test = sklearn.model_selection.train_test_split(X, y, test_size=0.15)#32 #888 887\n",
        "\n",
        "#validační set bude 15% \n",
        "X_train, X_val, y_train, y_val = sklearn.model_selection.train_test_split(X_train, y_train, test_size=0.1764) # 0.1764 x 0.859 = 0.15 \n",
        "\n",
        "print(X_train.shape) \n",
        "print(X_test.shape)\n",
        "print(X_val.shape) \n",
        "\n",
        "#scalujeme data aby si model nemyslel, že větší číselný řád indikuje větší důležitost atributu\n",
        "#https://stackoverflow.com/questions/51237635/difference-between-standard-scaler-and-minmaxscaler\n",
        "#https://datascience.stackexchange.com/questions/43972/when-should-i-use-standardscaler-and-when-minmaxscaler\n",
        "\n",
        "#nepoužíváme minmaxscaler, protože naše data by měly být \"normálně\" distribuovány\n",
        "\n",
        "\n",
        "main_scaler.fit(X_train)#model pracuje jen s poznatky, které získal na trénovacím datasetu, proto později používám pouze transform na trénovacím datasetu\n",
        "\n",
        "X_train=main_scaler.transform(X_train)#:https://stackoverflow.com/questions/49444262/normalize-data-before-or-after-split-of-training-and-testing-data\n",
        "X_test=main_scaler.transform(X_test)\n",
        "X_val=main_scaler.transform(X_val)"
      ],
      "execution_count": 215,
      "outputs": [
        {
          "output_type": "stream",
          "name": "stdout",
          "text": [
            "(12588, 98)\n",
            "(2698, 98)\n",
            "(2697, 98)\n"
          ]
        }
      ]
    },
    {
      "cell_type": "code",
      "metadata": {
        "colab": {
          "base_uri": "https://localhost:8080/",
          "height": 1000
        },
        "id": "DAdqGaX3CRHW",
        "outputId": "d43790be-cc30-458f-ff16-f58fedebbd39"
      },
      "source": [
        "#data máme připravena, tak vytvoříme sequential model, jelikož potřebujeme mít více vrstev, ale máme pouze 1 input (zápas) a output 0;1\n",
        "model = keras.models.Sequential()\n",
        "model.add(keras.layers.InputLayer(input_shape=(98)))#https://towardsdatascience.com/17-rules-of-thumb-for-building-a-neural-network-93356f9930af\n",
        "model.add(keras.layers.Dropout(rate=0.2)) \n",
        "model.add(keras.layers.Dense(512,activation='relu'))\n",
        "model.add(keras.layers.Dropout(rate=0.2))\n",
        "model.add(keras.layers.Dense(256,activation='relu'))\n",
        "model.add(keras.layers.Dropout(rate=0.2))\n",
        "model.add(keras.layers.Dense(128,activation='relu'))\n",
        "model.add(keras.layers.Dropout(rate=0.2))\n",
        "model.add(keras.layers.Dense(64,activation='relu'))\n",
        "model.add(keras.layers.Dropout(rate=0.2))\n",
        "model.add(keras.layers.Dense(32,activation='relu'))\n",
        "model.add(keras.layers.Dropout(rate=0.2))\n",
        "model.add(keras.layers.Dense(16,activation='relu'))\n",
        "model.add(keras.layers.Dropout(rate=0.2))\n",
        "model.add(keras.layers.Dense(1, activation='sigmoid'))\n",
        "\n",
        "model.compile(optimizer=tf.keras.optimizers.Adam(learning_rate=0.01), \n",
        "              loss=tf.keras.losses.BinaryCrossentropy(from_logits=False), #https://machinelearningmastery.com/how-to-choose-loss-functions-when-training-deep-learning-neural-networks/\n",
        "              metrics=['binary_accuracy'])\n",
        "\n",
        "reduce_lr_callback = tf.keras.callbacks.ReduceLROnPlateau(monitor='val_loss', factor=0.5, patience=3, min_lr=0.001,verbose=1)\n",
        "checkpoint_callback=tf.keras.callbacks.ModelCheckpoint('current_model.h5', monitor='val_loss', verbose=1, save_best_only=True)\n",
        "early_stopping_callback = tf.keras.callbacks.EarlyStopping(monitor='val_loss', patience=12,verbose=1)#patience-kolik epoch se nezmění val_loss pak stop\n",
        "\n",
        "history = model.fit(X_train, y_train, epochs=200, shuffle=True,batch_size=128,validation_data=(X_val, y_val), \n",
        "                    callbacks=[reduce_lr_callback,checkpoint_callback,early_stopping_callback])#steps\n",
        "train_predictions= model.predict(X_train)\n",
        "train_accuracy_score = model.evaluate(X_train, y_train, verbose=0)\n",
        "print('Accuracy on training data: {:.2%} \\n Error on training data: {:.2%}'.format(train_accuracy_score[1],  1 - train_accuracy_score[1]))#úspěšnost na trénovacím setu   \n",
        "\n",
        "\n",
        "test_predictions= model.predict(X_test)\n",
        "test_accuracy_score= model.evaluate(X_test, y_test, verbose=0)# zkusit změnit verbose zde a nahoře na 1 a 2 mělo by to zobrazovat více údajů při tréninku\n",
        "print('Accuracy on test data: {:.2%} \\n Error on test data: {:.2%}'.format(test_accuracy_score[1], 1 - test_accuracy_score[1]))#úspěšnost na testovacím setu\n",
        "\n",
        "plt.plot(history.history['binary_accuracy'])\n",
        "plt.plot(history.history['val_binary_accuracy'])\n",
        "\n",
        "plt.title('model accuracy')\n",
        "plt.ylabel('binary_accuracy')\n",
        "plt.xlabel('epoch')\n",
        "plt.legend(['train', 'test'], loc='upper left')\n",
        "plt.show()\n",
        "plt.plot(history.history['loss'])\n",
        "plt.plot(history.history['val_loss'])\n",
        "plt.title('model loss')\n",
        "plt.ylabel('loss')\n",
        "plt.xlabel('epoch')\n",
        "plt.legend(['train', 'val'], loc='upper left')\n",
        "plt.show()\n",
        "\n"
      ],
      "execution_count": 346,
      "outputs": [
        {
          "output_type": "stream",
          "name": "stdout",
          "text": [
            "Epoch 1/200\n",
            "99/99 [==============================] - 2s 7ms/step - loss: 0.6703 - binary_accuracy: 0.6004 - val_loss: 0.6394 - val_binary_accuracy: 0.6244\n",
            "\n",
            "Epoch 00001: val_loss improved from inf to 0.63939, saving model to current_model.h5\n",
            "Epoch 2/200\n",
            "99/99 [==============================] - 1s 5ms/step - loss: 0.6414 - binary_accuracy: 0.6378 - val_loss: 0.6187 - val_binary_accuracy: 0.6637\n",
            "\n",
            "Epoch 00002: val_loss improved from 0.63939 to 0.61870, saving model to current_model.h5\n",
            "Epoch 3/200\n",
            "99/99 [==============================] - 1s 5ms/step - loss: 0.6340 - binary_accuracy: 0.6438 - val_loss: 0.6264 - val_binary_accuracy: 0.6770\n",
            "\n",
            "Epoch 00003: val_loss did not improve from 0.61870\n",
            "Epoch 4/200\n",
            "99/99 [==============================] - 1s 5ms/step - loss: 0.6374 - binary_accuracy: 0.6420 - val_loss: 0.6211 - val_binary_accuracy: 0.6607\n",
            "\n",
            "Epoch 00004: val_loss did not improve from 0.61870\n",
            "Epoch 5/200\n",
            "99/99 [==============================] - 1s 5ms/step - loss: 0.6355 - binary_accuracy: 0.6582 - val_loss: 0.6231 - val_binary_accuracy: 0.6730\n",
            "\n",
            "Epoch 00005: ReduceLROnPlateau reducing learning rate to 0.004999999888241291.\n",
            "\n",
            "Epoch 00005: val_loss did not improve from 0.61870\n",
            "Epoch 6/200\n",
            "99/99 [==============================] - 1s 5ms/step - loss: 0.6187 - binary_accuracy: 0.6624 - val_loss: 0.6145 - val_binary_accuracy: 0.6767\n",
            "\n",
            "Epoch 00006: val_loss improved from 0.61870 to 0.61450, saving model to current_model.h5\n",
            "Epoch 7/200\n",
            "99/99 [==============================] - 1s 6ms/step - loss: 0.6194 - binary_accuracy: 0.6705 - val_loss: 0.6148 - val_binary_accuracy: 0.6711\n",
            "\n",
            "Epoch 00007: val_loss did not improve from 0.61450\n",
            "Epoch 8/200\n",
            "99/99 [==============================] - 1s 5ms/step - loss: 0.6135 - binary_accuracy: 0.6711 - val_loss: 0.6107 - val_binary_accuracy: 0.6767\n",
            "\n",
            "Epoch 00008: val_loss improved from 0.61450 to 0.61070, saving model to current_model.h5\n",
            "Epoch 9/200\n",
            "99/99 [==============================] - 1s 5ms/step - loss: 0.6148 - binary_accuracy: 0.6699 - val_loss: 0.6127 - val_binary_accuracy: 0.6782\n",
            "\n",
            "Epoch 00009: val_loss did not improve from 0.61070\n",
            "Epoch 10/200\n",
            "99/99 [==============================] - 1s 5ms/step - loss: 0.6132 - binary_accuracy: 0.6722 - val_loss: 0.6125 - val_binary_accuracy: 0.6681\n",
            "\n",
            "Epoch 00010: val_loss did not improve from 0.61070\n",
            "Epoch 11/200\n",
            "99/99 [==============================] - 1s 6ms/step - loss: 0.6112 - binary_accuracy: 0.6698 - val_loss: 0.6083 - val_binary_accuracy: 0.6778\n",
            "\n",
            "Epoch 00011: val_loss improved from 0.61070 to 0.60833, saving model to current_model.h5\n",
            "Epoch 12/200\n",
            "99/99 [==============================] - 1s 5ms/step - loss: 0.6163 - binary_accuracy: 0.6663 - val_loss: 0.6026 - val_binary_accuracy: 0.6704\n",
            "\n",
            "Epoch 00012: val_loss improved from 0.60833 to 0.60260, saving model to current_model.h5\n",
            "Epoch 13/200\n",
            "99/99 [==============================] - 1s 5ms/step - loss: 0.6124 - binary_accuracy: 0.6756 - val_loss: 0.6063 - val_binary_accuracy: 0.6722\n",
            "\n",
            "Epoch 00013: val_loss did not improve from 0.60260\n",
            "Epoch 14/200\n",
            "99/99 [==============================] - 1s 5ms/step - loss: 0.6108 - binary_accuracy: 0.6733 - val_loss: 0.6035 - val_binary_accuracy: 0.6767\n",
            "\n",
            "Epoch 00014: val_loss did not improve from 0.60260\n",
            "Epoch 15/200\n",
            "99/99 [==============================] - 1s 5ms/step - loss: 0.6112 - binary_accuracy: 0.6722 - val_loss: 0.6079 - val_binary_accuracy: 0.6759\n",
            "\n",
            "Epoch 00015: ReduceLROnPlateau reducing learning rate to 0.0024999999441206455.\n",
            "\n",
            "Epoch 00015: val_loss did not improve from 0.60260\n",
            "Epoch 16/200\n",
            "99/99 [==============================] - 1s 6ms/step - loss: 0.6015 - binary_accuracy: 0.6808 - val_loss: 0.6000 - val_binary_accuracy: 0.6759\n",
            "\n",
            "Epoch 00016: val_loss improved from 0.60260 to 0.60004, saving model to current_model.h5\n",
            "Epoch 17/200\n",
            "99/99 [==============================] - 1s 5ms/step - loss: 0.5998 - binary_accuracy: 0.6836 - val_loss: 0.6025 - val_binary_accuracy: 0.6756\n",
            "\n",
            "Epoch 00017: val_loss did not improve from 0.60004\n",
            "Epoch 18/200\n",
            "99/99 [==============================] - 1s 6ms/step - loss: 0.5983 - binary_accuracy: 0.6856 - val_loss: 0.6029 - val_binary_accuracy: 0.6678\n",
            "\n",
            "Epoch 00018: val_loss did not improve from 0.60004\n",
            "Epoch 19/200\n",
            "99/99 [==============================] - 1s 5ms/step - loss: 0.6005 - binary_accuracy: 0.6792 - val_loss: 0.6095 - val_binary_accuracy: 0.6770\n",
            "\n",
            "Epoch 00019: ReduceLROnPlateau reducing learning rate to 0.0012499999720603228.\n",
            "\n",
            "Epoch 00019: val_loss did not improve from 0.60004\n",
            "Epoch 20/200\n",
            "99/99 [==============================] - 1s 5ms/step - loss: 0.5944 - binary_accuracy: 0.6818 - val_loss: 0.6004 - val_binary_accuracy: 0.6819\n",
            "\n",
            "Epoch 00020: val_loss did not improve from 0.60004\n",
            "Epoch 21/200\n",
            "99/99 [==============================] - 1s 6ms/step - loss: 0.5889 - binary_accuracy: 0.6909 - val_loss: 0.6009 - val_binary_accuracy: 0.6778\n",
            "\n",
            "Epoch 00021: val_loss did not improve from 0.60004\n",
            "Epoch 22/200\n",
            "99/99 [==============================] - 1s 6ms/step - loss: 0.5920 - binary_accuracy: 0.6938 - val_loss: 0.6018 - val_binary_accuracy: 0.6763\n",
            "\n",
            "Epoch 00022: ReduceLROnPlateau reducing learning rate to 0.001.\n",
            "\n",
            "Epoch 00022: val_loss did not improve from 0.60004\n",
            "Epoch 23/200\n",
            "99/99 [==============================] - 1s 6ms/step - loss: 0.5857 - binary_accuracy: 0.6926 - val_loss: 0.6030 - val_binary_accuracy: 0.6785\n",
            "\n",
            "Epoch 00023: val_loss did not improve from 0.60004\n",
            "Epoch 24/200\n",
            "99/99 [==============================] - 1s 5ms/step - loss: 0.5883 - binary_accuracy: 0.6968 - val_loss: 0.5991 - val_binary_accuracy: 0.6745\n",
            "\n",
            "Epoch 00024: val_loss improved from 0.60004 to 0.59912, saving model to current_model.h5\n",
            "Epoch 25/200\n",
            "99/99 [==============================] - 1s 6ms/step - loss: 0.5846 - binary_accuracy: 0.6960 - val_loss: 0.6023 - val_binary_accuracy: 0.6793\n",
            "\n",
            "Epoch 00025: val_loss did not improve from 0.59912\n",
            "Epoch 26/200\n",
            "99/99 [==============================] - 1s 5ms/step - loss: 0.5809 - binary_accuracy: 0.6920 - val_loss: 0.6065 - val_binary_accuracy: 0.6756\n",
            "\n",
            "Epoch 00026: val_loss did not improve from 0.59912\n",
            "Epoch 27/200\n",
            "99/99 [==============================] - 1s 6ms/step - loss: 0.5801 - binary_accuracy: 0.7035 - val_loss: 0.6128 - val_binary_accuracy: 0.6737\n",
            "\n",
            "Epoch 00027: val_loss did not improve from 0.59912\n",
            "Epoch 28/200\n",
            "99/99 [==============================] - 1s 5ms/step - loss: 0.5824 - binary_accuracy: 0.6934 - val_loss: 0.6060 - val_binary_accuracy: 0.6693\n",
            "\n",
            "Epoch 00028: val_loss did not improve from 0.59912\n",
            "Epoch 29/200\n",
            "99/99 [==============================] - 1s 6ms/step - loss: 0.5732 - binary_accuracy: 0.7046 - val_loss: 0.6063 - val_binary_accuracy: 0.6767\n",
            "\n",
            "Epoch 00029: val_loss did not improve from 0.59912\n",
            "Epoch 30/200\n",
            "99/99 [==============================] - 1s 6ms/step - loss: 0.5775 - binary_accuracy: 0.7000 - val_loss: 0.6069 - val_binary_accuracy: 0.6707\n",
            "\n",
            "Epoch 00030: val_loss did not improve from 0.59912\n",
            "Epoch 31/200\n",
            "99/99 [==============================] - 1s 6ms/step - loss: 0.5780 - binary_accuracy: 0.7011 - val_loss: 0.6105 - val_binary_accuracy: 0.6745\n",
            "\n",
            "Epoch 00031: val_loss did not improve from 0.59912\n",
            "Epoch 32/200\n",
            "99/99 [==============================] - 1s 5ms/step - loss: 0.5760 - binary_accuracy: 0.7063 - val_loss: 0.6109 - val_binary_accuracy: 0.6719\n",
            "\n",
            "Epoch 00032: val_loss did not improve from 0.59912\n",
            "Epoch 33/200\n",
            "99/99 [==============================] - 1s 5ms/step - loss: 0.5722 - binary_accuracy: 0.7037 - val_loss: 0.6124 - val_binary_accuracy: 0.6730\n",
            "\n",
            "Epoch 00033: val_loss did not improve from 0.59912\n",
            "Epoch 34/200\n",
            "99/99 [==============================] - 1s 6ms/step - loss: 0.5754 - binary_accuracy: 0.7008 - val_loss: 0.6124 - val_binary_accuracy: 0.6785\n",
            "\n",
            "Epoch 00034: val_loss did not improve from 0.59912\n",
            "Epoch 35/200\n",
            "99/99 [==============================] - 1s 5ms/step - loss: 0.5761 - binary_accuracy: 0.7030 - val_loss: 0.6108 - val_binary_accuracy: 0.6793\n",
            "\n",
            "Epoch 00035: val_loss did not improve from 0.59912\n",
            "Epoch 36/200\n",
            "99/99 [==============================] - 1s 6ms/step - loss: 0.5678 - binary_accuracy: 0.7090 - val_loss: 0.6123 - val_binary_accuracy: 0.6756\n",
            "\n",
            "Epoch 00036: val_loss did not improve from 0.59912\n",
            "Epoch 00036: early stopping\n",
            "Accuracy on training data: 75.36% \n",
            " Error on training data: 24.64%\n",
            "Accuracy on test data: 65.97% \n",
            " Error on test data: 34.03%\n"
          ]
        },
        {
          "output_type": "display_data",
          "data": {
            "image/png": "[encoded data removed]",
            "text/plain": [
              "<Figure size 432x288 with 1 Axes>"
            ]
          },
          "metadata": {
            "needs_background": "light"
          }
        },
        {
          "output_type": "display_data",
          "data": {
            "image/png": "[encoded data removed]",
            "text/plain": [
              "<Figure size 432x288 with 1 Axes>"
            ]
          },
          "metadata": {
            "needs_background": "light"
          }
        }
      ]
    },
    {
      "cell_type": "code",
      "metadata": {
        "colab": {
          "base_uri": "https://localhost:8080/"
        },
        "id": "-MBS6OOAJNxv",
        "outputId": "8a218e85-4c15-4a9c-d574-612dd00058f6"
      },
      "source": [
        "#model.save('/content/save/model707.h5')\n",
        "model= keras.models.load_model(\"current_model.h5\")\n",
        "\n",
        "scaledData=main_scaler.transform(X)\n",
        "pred_test= model.predict(scaledData)\n",
        "scores2 = model.evaluate(scaledData, y, verbose=1)# zkusit změnit verbose zde a nahoře na 1 a 2 mělo by to zobrazovat více údajů při tréninku\n",
        "print('Accuracy on the whole dataset: {:.2%} \\n Error on the whole dataset: {:.2%}'.format(scores2[1], 1 - scores2[1]))#úspěšnost na testovacím setu\n",
        "\n",
        "\n",
        "#pickle.dump(main_scaler, open(\"/content/save/scaler707.pkl\", 'wb'))#save the scaler "
      ],
      "execution_count": 348,
      "outputs": [
        {
          "output_type": "stream",
          "name": "stdout",
          "text": [
            "562/562 [==============================] - 2s 3ms/step - loss: 0.5734 - binary_accuracy: 0.7069\n",
            "Accuracy on the whole dataset: 70.69% \n",
            " Error on the whole dataset: 29.31%\n"
          ]
        }
      ]
    },
    {
      "cell_type": "code",
      "metadata": {
        "colab": {
          "base_uri": "https://localhost:8080/"
        },
        "id": "GWKcVOt9eBe7",
        "outputId": "1ea37980-5b4a-4065-889c-b87e665887dd"
      },
      "source": [
        "main_scaler = pickle.load(open(\"scaler707.pkl\", 'rb'))\n",
        "Xnew=np.array([[1.58,2.31,62,164,0.44,0.38,0.5,0.5,0.95,0.73,0.66,0.99,70.9,0.65,0.55,0.89,4.4,1.03,0.68,0.69,0.89,78.2,0.69,0.54,1.01,4.0,1.08,0.64,0.69,1.12,72.1,0.71,0.23,1.10,3.8,0.87,0.7,0.67,0.74,64.0,0.58,0.6,0.82,3.8,0.97,0.75,0.67,1.06,74.7,0.65,0.59,0.86,5.0,1.07,0.71,0.67,1.25,76.9,0.73,0.56,1.02,3.1,1.04,0.71,0.69,1.08,77.1,0.69,0.48,0.97,6.0,0.99,0.67,0.67,0.91,69.4,0.67,0.29,0.99,3.5,0.9,0.72,0.66,0.84,70.8,0.55,0.45,0.76,9.5,0.87,0.67,0.65,0.74,65.9,0.56,0.53,0.84,4.2],\n",
        "               [2.35,1.55,98,111,0.67,0.61,0.5,0.5,1.18,0.64,0.76,1.08,83.3,0.79,0.5,1.23,5.0,1.16,0.57,0.75,1.06,74.0,0.74,0.56,1.30,5.0,1.13,0.69,0.72,1.19,82.4,0.69,0.44,1.00,9.1,1.12,0.63,0.72,1.09,74.8,0.72,0.25,1.14,6.6,1.1,0.66,0.71,1.16,78.2,0.68,0.46,1.03,8.2,1.23,0.56,0.72,1.24,77.6,0.82,0.39,1.45,1.9,1.17,0.64,0.74,1.12,82.4,0.74,0.52,1.16,4.1,1.1,0.65,0.72,1.07,76.0,0.71,0.55,1.09,4.6,1.07,0.66,0.72,1.04,75.0,0.68,0.4,1.02,4.5,1.05,0.64,0.74,0.88,72.9,0.64,0.53,1.00,5.0],\n",
        "               [2.34,1.57,37,39,0.54,0.83,0.555,0.5,1.18,0.67,0.72,1.22,86.3,0.75,0.49,1.11,7.1,1.08,0.67,0.75,1.0,75.3,0.67,0.42,1.00,3.1,1.06,0.6,0.71,1.0,66.6,0.69,0.29,1.14,3.5,1.06,0.67,0.7,1.03,74.7,0.69,0.58,1.02,3.8,0.95,0.69,0.71,0.82,69.2,0.6,0.46,0.87,3.2,1.37,0.59,0.76,1.46,88.9,0.88,0.34,1.51,4.7,1.19,0.65,0.71,1.24,86.2,0.76,0.48,1.16,7.4,1.03,0.66,0.69,1.0,72.9,0.66,0.66,1.00,5.2,1.1966666666666665,0.6333333333333333,0.7200000000000001,1.2333333333333334,82.66666666666667,0.7666666666666667,0.49333333333333335,1.2233333333333334,5.766666666666667,1.1966666666666665,0.6333333333333333,0.7200000000000001,1.2333333333333334,82.66666666666667,0.7666666666666667,0.49333333333333335,1.2233333333333334,5.766666666666667],\n",
        "               [1.67,2.14,36,92,0.77,0.48,0.5,0.5,1.3,0.58,0.8,1.13,87.4,0.82,0.52,1.42,3.3,1.23,0.57,0.75,1.23,78.0,0.77,0.27,1.36,3.0,1.18,0.64,0.75,1.24,81.4,0.74,0.5,1.14,6.2,1.05,0.67,0.7,1.08,73.3,0.69,0.52,1.02,5.8,1.05,0.61,0.74,0.91,72.1,0.63,0.45,1.03,3.6,1.12,0.64,0.7,1.2,75.3,0.71,0.34,1.12,4.2,1.08,0.66,0.72,1.04,76.0,0.7,0.54,1.06,7.2,1.01,0.68,0.69,0.97,73.4,0.64,0.44,0.94,5.1,0.95,0.67,0.68,0.87,72.2,0.58,0.45,0.87,10.8,0.97,0.65,0.71,0.81,68.2,0.61,0.52,0.93,4.8],\n",
        "               [1.91,1.85,165,178,0.47,0.57,0.5,0.5,1.3,0.68,0.77,1.34,89.3,0.86,0.61,1.26,5.3,1.08,0.67,0.72,1.07,74.7,0.68,0.41,1.01,5.9,1.01,0.68,0.7,1.0,70.6,0.65,0.57,0.96,2.9,0.98,0.72,0.68,0.94,72.8,0.64,0.43,0.90,2.9,0.96,0.66,0.69,0.89,63.9,0.6,0.46,0.92,2.0,1.17,0.71,0.73,1.24,86.9,0.76,0.63,1.07,5.0,1.11,0.66,0.73,1.01,77.2,0.78,0.52,1.18,2.3,1.03,0.7,0.69,1.04,76.1,0.66,0.56,0.95,3.0,0.97,0.66,0.71,0.95,63.1,0.57,0.37,0.88,1.5,0.92,0.71,0.67,0.94,65.3,0.58,0.52,0.82,3.1],\n",
        "               [1.43,2.75,52,89,0.45,0.52,0.526,0.5,1.13,0.66,0.73,1.11,79.0,0.74,0.55,1.12,4.9,1.1,0.65,0.72,1.14,75.0,0.69,0.37,1.06,6.1,1.01,0.68,0.7,1.01,70.6,0.65,0.53,0.96,3.4,0.95,0.68,0.67,0.91,70.7,0.6,0.51,0.88,6.2,1.0475,0.6675000000000001,0.705,1.0425,73.825,0.67,0.49000000000000005,1.0050000000000001,5.15,1.33,0.66,0.76,1.44,94.2,0.85,0.58,1.30,8.3,1.13,0.61,0.73,1.02,78.3,0.73,0.58,1.20,4.1,1.11,0.6,0.7,1.15,73.3,0.68,0.28,1.13,4.1,1.06,0.72,0.7,1.18,75.4,0.68,0.51,0.93,5.4,0.97,0.58,0.72,0.8,62.4,0.57,0.62,0.98,4.7],\n",
        "               [2.2,1.6,33,42,0.51,0.5,0.447,0.522,1.19,0.63,0.74,1.14,83.4,0.78,0.53,1.24,4.8,1.12,0.61,0.7,1.13,75.1,0.71,0.33,1.16,4.3,1.08,0.73,0.69,1.18,80.2,0.69,0.59,0.95,6.2,1.01,0.64,0.73,0.83,68.7,0.64,0.45,1.01,3.6,0.84,0.71,0.65,0.77,60.3,0.54,0.44,0.77,3.9,1.15,0.7,0.71,1.24,85.4,0.75,0.52,1.08,4.3,1.09,0.64,0.7,1.04,75.6,0.73,0.36,1.14,3.4,1.02,0.64,0.7,0.92,71.6,0.63,0.53,0.98,5.1,0.99,0.67,0.68,0.94,69.5,0.65,0.55,0.97,3.1,0.98,0.67,0.69,0.92,69.6,0.61,0.5,0.92,4.6],\n",
        "               [1.98,1.77,25,21,0.71,0.63,0.522,0.532,1.18,0.66,0.72,1.22,85.6,0.77,0.6,1.16,5.2,1.16,0.59,0.74,1.11,75.0,0.73,0.32,1.24,3.1,1.12,0.62,0.73,1.07,74.4,0.71,0.58,1.14,3.0,1.1,0.65,0.72,1.07,77.4,0.71,0.54,1.10,3.7,0.93,0.67,0.69,0.88,64.5,0.57,0.51,0.85,5.8,1.14,0.59,0.72,1.17,72.5,0.72,0.28,1.22,2.2,1.1,0.61,0.72,1.01,76.1,0.67,0.43,1.10,4.7,1.1,0.68,0.71,1.11,79.3,0.72,0.54,1.06,4.3,1.01,0.69,0.7,0.98,73.4,0.63,0.53,0.92,7.1,1.0875000000000001,0.6425,0.7124999999999999,1.0675,75.32499999999999,0.685,0.445,1.0750000000000002,4.574999999999999],\n",
        "               [1.5,2.44,65,81,0.71,0.43,0.587,0.5,1.39,0.5,0.79,1.36,83.9,0.86,0.33,1.74,2.9,1.14,0.59,0.72,1.15,75.9,0.7,0.49,1.19,4.4,1.14,0.62,0.73,1.12,79.5,0.69,0.52,1.10,4.6,1.12,0.62,0.72,1.06,77.4,0.72,0.55,1.15,4.1,1.02,0.62,0.72,0.86,68.8,0.6,0.62,0.97,4.5,1.13,0.62,0.72,1.1,76.2,0.73,0.26,1.17,2.7,1.03,0.68,0.69,1.01,73.2,0.68,0.6,1.00,5.2,1.01,0.71,0.67,1.1,72.4,0.67,0.73,0.94,3.2,0.97,0.66,0.67,0.91,70.5,0.62,0.43,0.93,4.1,1.035,0.6675,0.6875,1.03,73.075,0.675,0.505,1.01,3.8000000000000003],\n",
        "               [2.44,1.5,63,68,0.58,0.85,0.571,0.5,1.26,0.65,0.73,1.35,89.8,0.82,0.5,1.26,3.2,1.13,0.69,0.72,1.19,80.9,0.76,0.53,1.09,3.6,1.13,0.67,0.72,1.16,78.9,0.75,0.41,1.12,2.7,0.96,0.64,0.7,0.83,64.9,0.6,0.39,0.94,3.9,1.1199999999999999,0.6625,0.7175,1.1325,78.625,0.7325,0.4575,1.1025,3.35,1.17,0.61,0.72,1.16,77.8,0.76,0.23,1.25,3.1,1.15,0.63,0.75,1.09,79.9,0.7,0.55,1.12,5.8,1.12,0.7,0.7,1.3,79.7,0.72,0.4,1.02,4.3,1.11,0.61,0.74,0.97,73.5,0.69,0.55,1.14,4.4,1.11,0.64,0.74,1.05,75.1,0.71,0.54,1.10,4.0],\n",
        "               [2.15,1.65,108,69,0.42,0.43,0.5,0.542,1.11,0.63,0.71,1.06,77.1,0.72,0.35,1.13,6.6,0.93,0.69,0.68,0.87,68.3,0.6,0.48,0.86,8.8,0.98,0.71,0.66,1.03,72.8,0.67,0.47,0.94,3.4,0.89,0.69,0.68,0.8,64.7,0.58,0.55,0.84,4.4,0.83,0.73,0.63,0.79,66.6,0.54,0.4,0.75,7.9,1.05,0.69,0.73,0.98,75.9,0.66,0.63,0.96,5.2,1.02,0.71,0.69,1.1,71.1,0.68,0.27,0.96,4.1,0.96,0.73,0.69,0.93,73.0,0.65,0.42,0.89,5.0,0.96,0.69,0.64,0.93,73.5,0.63,0.5,0.92,6.4,0.95,0.63,0.68,0.9,64.0,0.6,0.37,0.94,3.2]\n",
        "               ])\n",
        "Xnew = pd.DataFrame(Xnew, columns=CSV_CL_NAMES_WITHOUT_RESULTS)\n",
        "pokus=main_scaler.transform(Xnew)\n",
        "model= keras.models.load_model(\"model707.h5\")\n",
        "ynew=(model.predict([pokus]))\n",
        "print(ynew)"
      ],
      "execution_count": 349,
      "outputs": [
        {
          "output_type": "stream",
          "name": "stdout",
          "text": [
            "[[0.29223916]\n",
            " [0.5625956 ]\n",
            " [0.44249773]\n",
            " [0.35486004]\n",
            " [0.31789196]\n",
            " [0.34096873]\n",
            " [0.4005051 ]\n",
            " [0.579666  ]\n",
            " [0.37754938]\n",
            " [0.73948824]\n",
            " [0.6405622 ]]\n"
          ]
        }
      ]
    },
    {
      "cell_type": "markdown",
      "metadata": {
        "id": "_y-0x3EQ37uB"
      },
      "source": [
        ""
      ]
    },
    {
      "cell_type": "code",
      "metadata": {
        "colab": {
          "base_uri": "https://localhost:8080/"
        },
        "id": "3KytdX4WSYkQ",
        "outputId": "74b3758d-4f28-4c21-c376-82230eacef5d"
      },
      "source": [
        "n = 2 # Max number of neighbours you want to consider\n",
        "param_grid = {'n_neighbors': np.arange(n)}\n",
        "grid = sklearn.model_selection.GridSearchCV(sklearn.neighbors.KNeighborsClassifier(), param_grid)\n",
        "grid.fit(X,y)\n",
        "print(grid.best_params_)\n",
        "#pro 300 nabízí 153"
      ],
      "execution_count": 121,
      "outputs": [
        {
          "output_type": "stream",
          "name": "stderr",
          "text": [
            "/usr/local/lib/python3.7/dist-packages/sklearn/model_selection/_validation.py:536: FitFailedWarning: Estimator fit failed. The score on this train-test partition for these parameters will be set to nan. Details: \n",
            "ValueError: Expected n_neighbors > 0. Got 0\n",
            "\n",
            "  FitFailedWarning)\n",
            "/usr/local/lib/python3.7/dist-packages/sklearn/model_selection/_validation.py:536: FitFailedWarning: Estimator fit failed. The score on this train-test partition for these parameters will be set to nan. Details: \n",
            "ValueError: Expected n_neighbors > 0. Got 0\n",
            "\n",
            "  FitFailedWarning)\n",
            "/usr/local/lib/python3.7/dist-packages/sklearn/model_selection/_validation.py:536: FitFailedWarning: Estimator fit failed. The score on this train-test partition for these parameters will be set to nan. Details: \n",
            "ValueError: Expected n_neighbors > 0. Got 0\n",
            "\n",
            "  FitFailedWarning)\n",
            "/usr/local/lib/python3.7/dist-packages/sklearn/model_selection/_validation.py:536: FitFailedWarning: Estimator fit failed. The score on this train-test partition for these parameters will be set to nan. Details: \n",
            "ValueError: Expected n_neighbors > 0. Got 0\n",
            "\n",
            "  FitFailedWarning)\n",
            "/usr/local/lib/python3.7/dist-packages/sklearn/model_selection/_validation.py:536: FitFailedWarning: Estimator fit failed. The score on this train-test partition for these parameters will be set to nan. Details: \n",
            "ValueError: Expected n_neighbors > 0. Got 0\n",
            "\n",
            "  FitFailedWarning)\n"
          ]
        },
        {
          "output_type": "stream",
          "name": "stdout",
          "text": [
            "{'n_neighbors': 1}\n"
          ]
        }
      ]
    },
    {
      "cell_type": "code",
      "metadata": {
        "id": "D5XU6SwMEp5r"
      },
      "source": [
        "pd.set_option(\"display.max_rows\", 999)\n",
        "pd.set_option(\"display.max_columns\", 999)\n",
        "pd.set_option(\"expand_frame_repr\", True)\n",
        "pd.set_option(\"large_repr\", \"info\")\n",
        "drive.mount('/content/drive')\n",
        "\n"
      ],
      "execution_count": 112,
      "outputs": []
    },
    {
      "cell_type": "markdown",
      "metadata": {
        "id": "fhmwsYYngDG0"
      },
      "source": [
        "\n",
        "poznatky-vypadá to, že grenade damage každého hráče je nadbytečná a síť bez této informace vykazuje lepší výsledky!!\n",
        "\n",
        "optimální batch_size je 128 zjištěno zkoušením\n",
        "\n",
        "kernel inity\n",
        "he_uniform>he_normal\n",
        "lecun uniform>lecun normal \n",
        "orthogonal a variance scaling použitelné\n",
        "\n",
        "bias inity\n",
        "lecun normal >he normal, variance_scaling\n",
        "https://www.tensorflow.org/api_docs/python/tf/keras/initializers\n",
        "val loss u callbacků nebo val_accuracy?\n",
        "model.add(Dense(512, kernel_initializer=tf.initializers.lecun_uniform,bias_initializer=tf.initializers.lecun_normal))\n",
        "\n",
        "nejlepší model měl zatím 512,256,128 i když to není doporučováno"
      ]
    }
  ]
}