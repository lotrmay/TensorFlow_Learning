{
  "nbformat": 4,
  "nbformat_minor": 0,
  "metadata": {
    "colab": {
      "name": "Learning.ipynb",
      "provenance": [],
      "collapsed_sections": [],
      "authorship_tag": "ABX9TyP2k+1tpeIV5tMPfEbfBpTq"
    },
    "kernelspec": {
      "name": "python3",
      "display_name": "Python 3"
    }
  },
  "cells": [
    {
      "cell_type": "code",
      "metadata": {
        "id": "dOXdSLbPx3pu",
        "colab_type": "code",
        "colab": {}
      },
      "source": [
        "%tensorflow_version 2.x\n",
        "import tensorflow as tf\n",
        "\n",
        "t=tf.zeros([2,2,2,2]) #vytvoří tensor, zaplněn nulami s dimenzemi v závorkách\n",
        "t=tf.reshape(t,[2,-1]) #přeskupí vybraný tensor, na jiný tensor, s jinými dimenzemi, které si určíme, můžeme si také dimenzi dopočítat zadáním -1\n",
        "print(t)"
      ],
      "execution_count": null,
      "outputs": []
    },
    {
      "cell_type": "code",
      "metadata": {
        "id": "GFO1G2uw_X_S",
        "colab_type": "code",
        "colab": {}
      },
      "source": [
        "from __future__ import absolute_import, division, print_function, unicode_literals\n",
        "\n",
        "import numpy as np #better arrays in python, lepší práce s multidimenzionálními poli\n",
        "import pandas as pd #data analytics tool, lepší manipulace s daty, dokáže například cut outnout column\n",
        "import matplotlib.pyplot as plt #vizualizace tabulek a grafů\n",
        "from IPython.display import clear_output #jen pro tenhle notebook\n",
        "from six.moves import urllib\n",
        "\n",
        "import tensorflow.compat.v2.feature_column as fc #\n",
        "\n",
        "import tensorflow as tf\n",
        "\n",
        "\n",
        "# Load dataset.\n",
        "dftrain = pd.read_csv('https://storage.googleapis.com/tf-datasets/titanic/train.csv') # training data\n",
        "dfeval = pd.read_csv('https://storage.googleapis.com/tf-datasets/titanic/eval.csv') # testing data\n",
        "#print(dftrain.head()) #vypíše nám prvních 5 záznamů a hlavičky dat\n",
        "#print(dftrain[\"age\"]) #vypíše sloupec age\n",
        "y_train = dftrain.pop('survived') #vyjme z dat sloupec survived a uloží ho do y_train\n",
        "y_eval = dfeval.pop('survived')\n",
        "#print(dftrain.loc[0])#vypíše 1. řádek dat\n",
        "#dftrain.describe() je metoda vhodná pro statistiky, dává nám údaje o datech jako vážený průměr, počet, min, max atd.\n",
        "#dftrain.shape nám vrátí počet řádků a počet sloupců dat\n",
        "#print(dftrain.age.hist(bins=20)) #vytvoří histogram, který reprezentuje data\n",
        "#print(dftrain.sex.value_counts().plot(kind='barh')) vytvoří graf zobrazujicí počet pohlaví\n",
        "#pd.concat([dftrain,y_train], axis=1).groupby('sex').survived.mean().plot(kind='barh').set_xlabel('% survive')# graf, jenž nám zobrazí jakou má které pohlaví šanci na přežití\n",
        "\n",
        "CATEGORICAL_COLUMNS=['sex','n_siblings_spouses','parch','class','deck','embark_town','alone']\n",
        "NUMERIC_COLUMNS=['age','fare']\n",
        "\n",
        "feature_columns=[]\n",
        "for feature_name in CATEGORICAL_COLUMNS:\n",
        "  vocabulary=dftrain[feature_name].unique() #projede všechny řádky a zjistí každou unikátní hodnotu\n",
        "  feature_columns.append(tf.feature_column.categorical_column_with_vocabulary_list(feature_name,vocabulary))\n",
        "\n",
        "for feature_name in NUMERIC_COLUMNS:\n",
        "  feature_columns.append(tf.feature_column.numeric_column(feature_name,dtype=tf.float32))\n",
        "\n",
        "#print(feature_columns)\n",
        "\n",
        "#následujicí kód nám poslouží abychom získali dataset object, kterému náš model bude rozumět\n",
        "#epochs=kolikrát uvidí náš model data\n",
        "#batch_size=Počet řádků, které uvidí každým průchodem, aby nedošlo k přehlcení paměti\n",
        "\n",
        "def make_input_fn(data_df, label_df, num_epochs=10, shuffle=True, batch_size=32):\n",
        "  def input_function():#vnitřní funkce, která bude vrácena\n",
        "    ds=tf.data.Dataset.from_tensor_slices((dict(data_df),label_df))# vytvoří tf.data.Dataset object a naplní ho daty \n",
        "    if shuffle: #slouží k tomu aby náš model nahlížel data i zjiné perspektivy\n",
        "      ds=ds.shuffle(1000)#promíchá naše data\n",
        "    ds=ds.batch(batch_size).repeat(num_epochs) # rozdělí dataset do 32 řádkových batchů a opakuje tolikrát kolik máme epochů\n",
        "    return ds #vrátí nám batch datasetu\n",
        "  return input_function # vrátí funkci pro náš objekt\n",
        "\n",
        "train_input_fn=make_input_fn(dftrain,y_train) # here we will call the input_function that was returned to us to get a dataset object we can feed to the model\n",
        "eval_input_fn = make_input_fn(dfeval, y_eval, num_epochs=1, shuffle=False)\n",
        "\n",
        "linear_est=tf.estimator.LinearClassifier(feature_columns=feature_columns)\n",
        "\n",
        "linear_est.train(train_input_fn)#train\n",
        "result=linear_est.evaluate(eval_input_fn)#výsledky toho, jak si model vedl\n",
        "\n",
        "clear_output()#vyčistí konzoli\n",
        "print(result['accuracy'])#vypíše nám výsledek, ale result obsahuje i například průměrný loss, jenž zde je 0.5, protože je to binární problém\n",
        "#print(result)\n",
        "\n",
        "#následujicí kód zkouší predikovat na základě vybraných dat\n",
        "\n",
        "result=list(linear_est.predict(eval_input_fn))\n",
        "print(dfeval.loc[5])\n",
        "print(y_eval.loc[5])\n",
        "print(result[5]['probabilities'][1])#index 1 nám zobrazí šanci, že přežil\n",
        "\n",
        "\n"
      ],
      "execution_count": null,
      "outputs": []
    },
    {
      "cell_type": "code",
      "metadata": {
        "id": "S5GtjyIvVb2y",
        "colab_type": "code",
        "colab": {}
      },
      "source": [
        "#Klasifikace 1:55:03\n",
        "#https://www.youtube.com/watch?v=tPYj3fFJGjk"
      ],
      "execution_count": null,
      "outputs": []
    }
  ]
}