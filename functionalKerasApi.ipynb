{
  "nbformat": 4,
  "nbformat_minor": 0,
  "metadata": {
    "colab": {
      "name": "functionalKerasApi.ipynb",
      "provenance": [],
      "collapsed_sections": [],
      "authorship_tag": "ABX9TyMI6S5v9ZxK7UCLsNZq7iIx",
      "include_colab_link": true
    },
    "kernelspec": {
      "name": "python3",
      "display_name": "Python 3"
    },
    "language_info": {
      "name": "python"
    }
  },
  "cells": [
    {
      "cell_type": "markdown",
      "metadata": {
        "id": "view-in-github",
        "colab_type": "text"
      },
      "source": [
        "<a href=\"https://colab.research.google.com/github/lotrmay/TensorFlow_Learning/blob/master/functionalKerasApi.ipynb\" target=\"_parent\"><img src=\"https://colab.research.google.com/assets/colab-badge.svg\" alt=\"Open In Colab\"/></a>"
      ]
    },
    {
      "cell_type": "code",
      "metadata": {
        "colab": {
          "base_uri": "https://localhost:8080/",
          "height": 1000
        },
        "id": "DvtxW3SqZGV2",
        "outputId": "56cf8d9d-2829-4925-d5a3-683dc4d55103"
      },
      "source": [
        "%tensorflow_version 2.x\n",
        "import tensorflow as tf\n",
        "from __future__ import absolute_import, division, print_function, unicode_literals\n",
        "from sklearn.model_selection import train_test_split\n",
        "from sklearn.preprocessing import MinMaxScaler, StandardScaler\n",
        "\n",
        "import numpy as np #better arrays in python, lepší práce s multidimenzionálními poli\n",
        "import pandas as pd #data analytics tool, lepší manipulace s daty, dokáže například cut outnout column\n",
        "import matplotlib.pyplot as plt #vizualizace tabulek a grafů\n",
        "from IPython.display import clear_output #jen pro tenhle notebook\n",
        "from six.moves import urllib\n",
        "from keras.models import Sequential\n",
        "from keras.layers import Dense\n",
        "from tensorflow.keras import utils as np_utils\n",
        "import matplotlib.pyplot as plt\n",
        "from sklearn.neighbors import LocalOutlierFactor\n",
        "import keras\n",
        "from keras.layers import concatenate\n",
        "import shap\n",
        "import xgboost\n",
        "\n",
        "\n",
        "\n",
        "CSV_COLUMN_NAMES=['Odds_firstTeam','Odds_secondTeam','Rank_firstTeam','Rank_secondTeam','WinRate_firstTeam','WinRate_secondTeam','PistolWinRate_firstTeam','PistolWinRate_secondTeam',\n",
        "                  'playerAARating','playerAADpr','playerAAKast','playerAAImpact','playerAAAdr','playerAAKpr','playerAAHs','playerAAKD','playerAAGrenadeDmg',\n",
        "                  'playerABRating','playerABDpr','playerABKast','playerABImpact','playerABAdr','playerABKpr','playerABHs','playerABKD','playerABGrenadeDmg',\n",
        "                  'playerACRating','playerACDpr','playerACKast','playerACImpact','playerACAdr','playerACKpr','playerACHs','playerACKD','playerACGrenadeDmg',\n",
        "                  'playerADRating','playerADDpr','playerADKast','playerADImpact','playerADAdr','playerADKpr','playerADHs','playerADKD','playerADGrenadeDmg',\n",
        "                  'playerAERating','playerAEDpr','playerAEKast','playerAEImpact','playerAEAdr','playerAEKpr','playerAEHs','playerAEKD','playerAEGrenadeDmg',\n",
        "                  'playerBARating','playerBADpr','playerBAKast','playerBAImpact','playerBAAdr','playerBAKpr','playerBAHs','playerBAKD','playerBAGrenadeDmg',\n",
        "                  'playerBBRating','playerBBDpr','playerBBKast','playerBBImpact','playerBBAdr','playerBBKpr','playerBBHs','playerBBKD','playerBBGrenadeDmg',\n",
        "                  'playerBCRating','playerBCDpr','playerBCKast','playerBCImpact','playerBCAdr','playerBCKpr','playerBCHs','playerBCKD','playerBCGrenadeDmg',\n",
        "                  'playerBDRating','playerBDDpr','playerBDKast','playerBDImpact','playerBDAdr','playerBDKpr','playerBDHs','playerBDKD','playerBDGrenadeDmg',\n",
        "                  'playerBERating','playerBEDpr','playerBEKast','playerBEImpact','playerBEAdr','playerBEKpr','playerBEHs','playerBEKD','playerBEGrenadeDmg','Match_link','Result','team_one_name','team_two_name']\n",
        "CSV_COLUMN_NAMES2=['Odds_firstTeam','Odds_secondTeam','Rank_firstTeam','Rank_secondTeam','WinRate_firstTeam','WinRate_secondTeam','PistolWinRate_firstTeam','PistolWinRate_secondTeam',\n",
        "                  'playerAARating','playerAADpr','playerAAKast','playerAAImpact','playerAAAdr','playerAAKpr','playerAAHs','playerAAKD','playerAAGrenadeDmg',\n",
        "                  'playerABRating','playerABDpr','playerABKast','playerABImpact','playerABAdr','playerABKpr','playerABHs','playerABKD','playerABGrenadeDmg',\n",
        "                  'playerACRating','playerACDpr','playerACKast','playerACImpact','playerACAdr','playerACKpr','playerACHs','playerACKD','playerACGrenadeDmg',\n",
        "                  'playerADRating','playerADDpr','playerADKast','playerADImpact','playerADAdr','playerADKpr','playerADHs','playerADKD','playerADGrenadeDmg',\n",
        "                  'playerAERating','playerAEDpr','playerAEKast','playerAEImpact','playerAEAdr','playerAEKpr','playerAEHs','playerAEKD','playerAEGrenadeDmg',\n",
        "                  'playerBARating','playerBADpr','playerBAKast','playerBAImpact','playerBAAdr','playerBAKpr','playerBAHs','playerBAKD','playerBAGrenadeDmg',\n",
        "                  'playerBBRating','playerBBDpr','playerBBKast','playerBBImpact','playerBBAdr','playerBBKpr','playerBBHs','playerBBKD','playerBBGrenadeDmg',\n",
        "                  'playerBCRating','playerBCDpr','playerBCKast','playerBCImpact','playerBCAdr','playerBCKpr','playerBCHs','playerBCKD','playerBCGrenadeDmg',\n",
        "                  'playerBDRating','playerBDDpr','playerBDKast','playerBDImpact','playerBDAdr','playerBDKpr','playerBDHs','playerBDKD','playerBDGrenadeDmg',\n",
        "                  'playerBERating','playerBEDpr','playerBEKast','playerBEImpact','playerBEAdr','playerBEKpr','playerBEHs','playerBEKD','playerBEGrenadeDmg']\n",
        "train=pd.read_csv('/content/pokus.csv',sep=\";\",names=CSV_COLUMN_NAMES,error_bad_lines=False,header=None)\n",
        "print(train.shape)\n",
        "#tady se train shufflne\n",
        "\n",
        "#train_y=train.pop('Result')\n",
        "#test_y=test.pop('Result')\n",
        "train.pop('Match_link')\n",
        "train.pop('team_one_name')\n",
        "train.pop('team_two_name')\n",
        "\n",
        "target_column = ['Result'] \n",
        "predictors = list(set(list(train.columns))-set(target_column))\n",
        "scaler = MinMaxScaler(feature_range=(0.01, 0.99))\n",
        "norm = StandardScaler()\n",
        "train[predictors]=norm.fit_transform(train[predictors])\n",
        "train[predictors] = scaler.fit_transform(train[predictors])\n",
        "\n",
        "\n",
        "#train[predictors] = train[predictors]/train[predictors].max()\n",
        "\n",
        "X = train[predictors].values\n",
        "y = train[target_column].values\n",
        "#print(X)\n",
        "\n",
        "X_train, X_test, y_train, y_test = train_test_split(X, y, test_size=0.15, random_state=9)#32 #888\n",
        "results=train['Result']\n",
        "trainFirstTeams=X_train[:,[0,2,4,6,8,9,10,11,12,13,14,15,16,17,18,19,20,21,22,23,24,25,26,27,28,29,30,31,32,33,34,35,36,37,38,39,40,41,42,43,44,45,46,47,48,49,50,51]]\n",
        "trainSecondTeams=X_train[:,[1,3,5,7,52,53,54,55,56,57,58,59,60,61,62,63,64,65,66,67,68,69,70,71,72,73,74,75,76,78,79,80,81,82,83,84,85,86,87,88,89,90,91,92,93,94,95,96]]\n",
        "testFirstTeams=X_test[:,[0,2,4,6,8,9,10,11,12,13,14,15,16,17,18,19,20,21,22,23,24,25,26,27,28,29,30,31,32,33,34,35,36,37,38,39,40,41,42,43,44,45,46,47,48,49,50,51]]\n",
        "testSecondTeams=X_test[:,[1,3,5,7,52,53,54,55,56,57,58,59,60,61,62,63,64,65,66,67,68,69,70,71,72,73,74,75,76,78,79,80,81,82,83,84,85,86,87,88,89,90,91,92,93,94,95,96]]\n",
        "print(trainFirstTeams.shape)\n",
        "print(trainFirstTeams)\n",
        "print(trainSecondTeams.shape)\n",
        "print(trainSecondTeams)\n",
        "\n",
        "\n",
        "\n",
        "inputA = keras.Input(shape=(48,))\n",
        "inputB = keras.Input(shape=(48,))\n",
        "\n",
        "x = Dense(48, activation=\"relu\")(inputA)\n",
        "x = keras.layers.Dropout(0.2)(x)\n",
        "x = Dense(24, activation=\"relu\")(x)\n",
        "x = keras.layers.Dropout(0.2)(x)\n",
        "x = Dense(8, activation=\"relu\")(x)\n",
        "x = keras.Model(inputs=inputA, outputs=x)\n",
        "\n",
        "y = Dense(48, activation=\"relu\")(inputB)\n",
        "y = keras.layers.Dropout(0.2)(y)\n",
        "y = Dense(24, activation=\"relu\")(y)\n",
        "y = keras.layers.Dropout(0.2)(y)\n",
        "y = Dense(8, activation=\"relu\")(y)\n",
        "y = keras.Model(inputs=inputB, outputs=y)\n",
        "\n",
        "combined = concatenate([x.output, y.output])\n",
        "\n",
        "z = Dense(2, activation=\"relu\")(combined)\n",
        "z = Dense(1, activation=\"sigmoid\")(z)\n",
        "\n",
        "# our model will accept the inputs of the two branches and\n",
        "# then output a single value\n",
        "model = keras.Model(inputs=[x.input, y.input], outputs=z)\n",
        "#shufflovat se může jen před rozdělením polí\n",
        "\n",
        "\n",
        "model.compile(optimizer=keras.optimizers.Adadelta(learning_rate=0.015), #keras.optimizers.SGD(learning_rate=0.01)\n",
        "              loss='binary_crossentropy', \n",
        "              metrics=['accuracy'])\n",
        "# train the model\n",
        "print(\"[INFO] training model...\")\n",
        "'''\n",
        "print(trainFirstTeams.shape)\n",
        "print(trainSecondTeams.shape)\n",
        "print(testFirstTeams.shape)\n",
        "print(testSecondTeams.shape)\n",
        "'''\n",
        "\n",
        "history = model.fit(x=[trainFirstTeams,trainSecondTeams], y=y_train,validation_data=([testFirstTeams, testSecondTeams], y_test),epochs=10, batch_size=128)\n",
        "\n",
        "\n",
        "# make predictions on the testing data\n",
        "print(\"[INFO] predicting...\")\n",
        "pred_train = model.predict([testFirstTeams, testSecondTeams])\n",
        "\n",
        "scores = model.evaluate([trainFirstTeams, trainSecondTeams], y_train, verbose=0)\n",
        "print('Accuracy on training data: {}% \\n Error on training data: {}'.format(scores[1], 1 - scores[1]))   \n",
        "pred_test= model.predict([testFirstTeams, testSecondTeams])\n",
        "\n",
        "scores2 = model.evaluate([testFirstTeams, testSecondTeams], y_test, verbose=0)\n",
        "print('Accuracy on test data: {}% \\n Error on test data: {}'.format(scores2[1], 1 - scores2[1]))\n",
        "plt.plot(history.history['accuracy'])\n",
        "plt.plot(history.history['val_accuracy'])\n",
        "plt.title('model accuracy')\n",
        "plt.ylabel('accuracy')\n",
        "plt.xlabel('epoch')\n",
        "plt.legend(['train', 'test'], loc='upper left')\n",
        "plt.show()\n",
        "plt.plot(history.history['loss'])\n",
        "plt.plot(history.history['val_loss'])\n",
        "plt.title('model loss')\n",
        "plt.ylabel('loss')\n",
        "plt.xlabel('epoch')\n",
        "plt.legend(['train', 'val'], loc='upper left')\n",
        "plt.show()\n",
        "\n"
      ],
      "execution_count": 20,
      "outputs": [
        {
          "output_type": "stream",
          "text": [
            "(18775, 102)\n",
            "(15958, 48)\n",
            "[[0.52672727 0.752      0.48894737 ... 0.29836048 0.2844     0.45219512]\n",
            " [0.598      0.661      0.37105263 ... 0.36539631 0.14185455 0.60756098]\n",
            " [0.58909091 0.6855     0.41526316 ... 0.27495114 0.24876364 0.54780488]\n",
            " ...\n",
            " [0.44951515 0.556      0.33421053 ... 0.28346363 0.29509091 0.47609756]\n",
            " [0.55048485 0.71       0.48894737 ... 0.32176982 0.30221818 0.5597561 ]\n",
            " [0.47327273 0.584      0.45210526 ... 0.39306189 0.23450909 0.6195122 ]]\n",
            "(15958, 48)\n",
            "[[0.57170732 0.66780822 0.35734177 ... 0.2765272  0.51601307 0.54803922]\n",
            " [0.53585366 0.33890411 0.12164557 ... 0.15351464 0.22137255 0.42633987]\n",
            " [0.64341463 0.50671233 0.35113924 ... 0.28062762 0.43915033 0.41993464]\n",
            " ...\n",
            " [0.60756098 0.57383562 0.37594937 ... 0.22322176 0.44555556 0.36228758]\n",
            " [0.59560976 0.74332192 0.37594937 ... 0.28062762 0.52882353 0.57366013]\n",
            " [0.59560976 0.68794521 0.28911392 ... 0.2109205  0.48398693 0.45196078]]\n",
            "[INFO] training model...\n",
            "Epoch 1/10\n",
            "125/125 [==============================] - 2s 6ms/step - loss: 0.6932 - accuracy: 0.4674 - val_loss: 0.6933 - val_accuracy: 0.4633\n",
            "Epoch 2/10\n",
            "125/125 [==============================] - 0s 2ms/step - loss: 0.6932 - accuracy: 0.4731 - val_loss: 0.6932 - val_accuracy: 0.4611\n",
            "Epoch 3/10\n",
            "125/125 [==============================] - 0s 2ms/step - loss: 0.6928 - accuracy: 0.4891 - val_loss: 0.6931 - val_accuracy: 0.5087\n",
            "Epoch 4/10\n",
            "125/125 [==============================] - 0s 2ms/step - loss: 0.6924 - accuracy: 0.5022 - val_loss: 0.6927 - val_accuracy: 0.5328\n",
            "Epoch 5/10\n",
            "125/125 [==============================] - 0s 2ms/step - loss: 0.6918 - accuracy: 0.5209 - val_loss: 0.6902 - val_accuracy: 0.5357\n",
            "Epoch 6/10\n",
            "125/125 [==============================] - 0s 3ms/step - loss: 0.6908 - accuracy: 0.5334 - val_loss: 0.6871 - val_accuracy: 0.5367\n",
            "Epoch 7/10\n",
            "125/125 [==============================] - 0s 2ms/step - loss: 0.6900 - accuracy: 0.5351 - val_loss: 0.6862 - val_accuracy: 0.5367\n",
            "Epoch 8/10\n",
            "125/125 [==============================] - 0s 2ms/step - loss: 0.6898 - accuracy: 0.5366 - val_loss: 0.6860 - val_accuracy: 0.5367\n",
            "Epoch 9/10\n",
            "125/125 [==============================] - 0s 3ms/step - loss: 0.6885 - accuracy: 0.5376 - val_loss: 0.6859 - val_accuracy: 0.5367\n",
            "Epoch 10/10\n",
            "125/125 [==============================] - 0s 3ms/step - loss: 0.6865 - accuracy: 0.5388 - val_loss: 0.6860 - val_accuracy: 0.5367\n",
            "[INFO] predicting...\n",
            "Accuracy on training data: 0.5382879972457886% \n",
            " Error on training data: 0.4617120027542114\n",
            "Accuracy on test data: 0.5367411971092224% \n",
            " Error on test data: 0.4632588028907776\n"
          ],
          "name": "stdout"
        },
        {
          "output_type": "display_data",
          "data": {
            "image/png": "[encoded data removed]",
            "text/plain": [
              "<Figure size 432x288 with 1 Axes>"
            ]
          },
          "metadata": {
            "tags": [],
            "needs_background": "light"
          }
        },
        {
          "output_type": "display_data",
          "data": {
            "image/png": "[encoded data removed]",
            "text/plain": [
              "<Figure size 432x288 with 1 Axes>"
            ]
          },
          "metadata": {
            "tags": [],
            "needs_background": "light"
          }
        }
      ]
    },
    {
      "cell_type": "code",
      "metadata": {
        "colab": {
          "base_uri": "https://localhost:8080/"
        },
        "id": "eiWXcwKKVSms",
        "outputId": "23229f47-357c-4589-a9bd-0c1a23683d45"
      },
      "source": [
        "from sklearn.ensemble import RandomForestClassifier\n",
        "clf = RandomForestClassifier(n_estimators = 100)  \n",
        "\n",
        "clf.fit(X_train, y_train)\n",
        "y_pred = clf.predict(X_test)\n",
        "from sklearn import metrics  \n",
        "print(\"ACCURACY OF THE MODEL: \", metrics.accuracy_score(y_test, y_pred))\n",
        "feature_imp = pd.Series(clf.feature_importances_, index = CSV_COLUMN_NAMES2).sort_values(ascending = False)\n",
        "print(feature_imp)\n"
      ],
      "execution_count": 23,
      "outputs": [
        {
          "output_type": "stream",
          "text": [
            "A column-vector y was passed when a 1d array was expected. Please change the shape of y to (n_samples,), for example using ravel().\n"
          ],
          "name": "stderr"
        },
        {
          "output_type": "stream",
          "text": [
            "ACCURACY OF THE MODEL:  0.6883209087681931\n",
            "playerADKpr                 0.067425\n",
            "PistolWinRate_secondTeam    0.061465\n",
            "playerBARating              0.016299\n",
            "playerADHs                  0.015264\n",
            "playerADKD                  0.010992\n",
            "                              ...   \n",
            "playerABRating              0.006553\n",
            "playerADRating              0.006515\n",
            "playerADDpr                 0.006295\n",
            "playerBERating              0.006204\n",
            "playerBCHs                  0.006155\n",
            "Length: 98, dtype: float64\n"
          ],
          "name": "stdout"
        }
      ]
    }
  ]
}