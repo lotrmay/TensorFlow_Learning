{
  "nbformat": 4,
  "nbformat_minor": 0,
  "metadata": {
    "colab": {
      "name": "Untitled0.ipynb",
      "provenance": [],
      "authorship_tag": "ABX9TyNwDUDQ748aTSIQgijkn0qx",
      "include_colab_link": true
    },
    "kernelspec": {
      "name": "python3",
      "display_name": "Python 3"
    },
    "language_info": {
      "name": "python"
    }
  },
  "cells": [
    {
      "cell_type": "markdown",
      "metadata": {
        "id": "view-in-github",
        "colab_type": "text"
      },
      "source": [
        "<a href=\"https://colab.research.google.com/github/lotrmay/TensorFlow_Learning/blob/master/Untitled0.ipynb\" target=\"_parent\"><img src=\"https://colab.research.google.com/assets/colab-badge.svg\" alt=\"Open In Colab\"/></a>"
      ]
    },
    {
      "cell_type": "code",
      "metadata": {
        "colab": {
          "base_uri": "https://localhost:8080/",
          "height": 411
        },
        "id": "_aJIideLo7O2",
        "outputId": "0e826969-aa35-4a47-fef1-94171e606628"
      },
      "source": [
        "%tensorflow_version 2.x\n",
        "import tensorflow as tf\n",
        "from __future__ import absolute_import, division, print_function, unicode_literals\n",
        "\n",
        "import numpy as np #better arrays in python, lepší práce s multidimenzionálními poli\n",
        "import pandas as pd #data analytics tool, lepší manipulace s daty, dokáže například cut outnout column\n",
        "import matplotlib.pyplot as plt #vizualizace tabulek a grafů\n",
        "from IPython.display import clear_output #jen pro tenhle notebook\n",
        "from six.moves import urllib\n",
        "\n",
        "\n",
        "CSV_COLUMN_NAMES=['Odds_firstTeam','Odds_secondTeam','Rank_firstTeam','Rank_secondTeam','WinRate_firstTeam','WinRate_secondTeam','PistolWinRate_firstTeam','PistolWinRate_secondTeam',\n",
        "                  'playerAARating','playerAADpr','playerAAKast','playerAAImpact','playerAAAdr','playerAAKpr','playerAAHs','playerAAKD','playerAAGrenadeDmg',\n",
        "                  'playerABRating','playerABDpr','playerABKast','playerABImpact','playerABAdr','playerABKpr','playerABHs','playerABKD','playerABGrenadeDmg',\n",
        "                  'playerACRating','playerACDpr','playerACKast','playerACImpact','playerACAdr','playerACKpr','playerACHs','playerACKD','playerACGrenadeDmg',\n",
        "                  'playerADRating','playerADDpr','playerADKast','playerADImpact','playerADAdr','playerADKpr','playerADHs','playerADKD','playerADGrenadeDmg',\n",
        "                  'playerAERating','playerAEDpr','playerAEKast','playerAEImpact','playerAEAdr','playerAEKpr','playerAEHs','playerAEKD','playerAEGrenadeDmg',\n",
        "                  'playerBARating','playerBADpr','playerBAKast','playerBAImpact','playerBAAdr','playerBAKpr','playerBAHs','playerBAKD','playerBAGrenadeDmg',\n",
        "                  'playerBBRating','playerBBDpr','playerBBKast','playerBBImpact','playerBBAdr','playerBBKpr','playerBBHs','playerBBKD','playerBBGrenadeDmg',\n",
        "                  'playerBCRating','playerBCDpr','playerBCKast','playerBCImpact','playerBCAdr','playerBCKpr','playerBCHs','playerBCKD','playerBCGrenadeDmg',\n",
        "                  'playerBDRating','playerBDDpr','playerBDKast','playerBDImpact','playerBDAdr','playerBDKpr','playerBDHs','playerBDKD','playerBDGrenadeDmg',\n",
        "                  'playerBERating','playerBEDpr','playerBEKast','playerBEImpact','playerBEAdr','playerBEKpr','playerBEHs','playerBEKD','playerBEGrenadeDmg','Match_link','Result','team_one_name','team_two_name']\n",
        "RESULTS=['0','1']\n",
        "\n",
        "train=pd.read_csv('/content/pokus.csv',sep=\";\",names=CSV_COLUMN_NAMES,error_bad_lines=False,header=None)\n",
        "test=pd.read_csv('/content/test.csv', sep=\";\",names=CSV_COLUMN_NAMES,error_bad_lines=False,header=None)\n",
        "#načítání dat pomocí kerasu a panda\n",
        "train_y=train.pop('Result')\n",
        "test_y=test.pop('Result')\n",
        "train.pop('Match_link')\n",
        "test.pop('Match_link')\n",
        "train.pop('team_one_name')\n",
        "train.pop('team_two_name')\n",
        "test.pop('team_one_name')\n",
        "test.pop('team_two_name')\n",
        "\n",
        "#train.head()#nyní jsou data bez Species\n",
        "#train.shape #120 řádků a 4 sloupce\n",
        "\n",
        "\n",
        "\n",
        "#pd.to_numeric(train, errors='coerce')\n",
        "#pd.to_numeric(test, errors='coerce')\n",
        "\n",
        "#df=pd.DataFrame(train)\n",
        "\n",
        "\n",
        "\n",
        "def input_fn(features,labels,training=True,batch_size=16):\n",
        "  #Nyní vložíme naše data do datasetu\n",
        "  dataset=tf.data.Dataset.from_tensor_slices((dict(features),labels))\n",
        "  #Promíchej a opakuj pokud trénuješ\n",
        "  if training:\n",
        "    dataset=dataset.shuffle(1000).repeat()\n",
        "  return dataset.batch(batch_size)\n",
        "\n",
        "#Feature columns popisují jak použít náš input\n",
        "\n",
        "my_feature_columns=[]\n",
        "for key in train.keys():#train.keys() vrací všechny sloupce, mohli jsme loopovat přes CSV_COLUMN_NAMES, pokud bychom odebrali SPECIES v poli\n",
        "  my_feature_columns.append(tf.feature_column.numeric_column(key=key))\n",
        "print(my_feature_columns)\n",
        "\n",
        "classifier=tf.estimator.DNNClassifier(feature_columns=my_feature_columns,hidden_units=[30,10], n_classes=3)\n",
        "#n_classes říká počet tříd, a hiddent units znamená, že budeme mít 2 vrstvy a první bude mít 30 a druhá 10 nodes\n",
        "\n",
        "classifier.train(input_fn=lambda: input_fn(train,train_y,training=True),steps=1)#využití input funkce co jsme udělalli pro trénování\n",
        "#lambda je v podstatě def funkce(): v jedné řádce\n",
        "#steps je podobné jako epochs, steps označuje kolik záznamů musí model vidět pro ukončení\n",
        "\n",
        "\n",
        "eval_result=classifier.evaluate(input_fn=lambda:input_fn(test,test_y,training=False))\n",
        "#print('\\nTest set accuracy:{accuracy:0.3f}\\n'.format(**eval_result))\n",
        "\n",
        "def input_fn(features,batch_size=64):\n",
        "  return tf.data.Dataset.from_tensor_slices(dict(features)).batch(batch_size)\n",
        "\n",
        "features=['Odds_firstTeam','Odds_secondTeam','Rank_firstTeam','Rank_secondTeam','WinRate_firstTeam','WinRate_secondTeam','PistolWinRate_firstTeam','PistolWinRate_secondTeam',\n",
        "                  'playerAARating','playerAADpr','playerAAKast','playerAAImpact','playerAAAdr','playerAAKpr','playerAAHs','playerAAKD','playerAAGrenadeDmg',\n",
        "                  'playerABRating','playerABDpr','playerABKast','playerABImpact','playerABAdr','playerABKpr','playerABHs','playerABKD','playerABGrenadeDmg',\n",
        "                  'playerACRating','playerACDpr','playerACKast','playerACImpact','playerACAdr','playerACKpr','playerACHs','playerACKD','playerACGrenadeDmg',\n",
        "                  'playerADRating','playerADDpr','playerADKast','playerADImpact','playerADAdr','playerADKpr','playerADHs','playerADKD','playerADGrenadeDmg',\n",
        "                  'playerAERating','playerAEDpr','playerAEKast','playerAEImpact','playerAEAdr','playerAEKpr','playerAEHs','playerAEKD','playerAEGrenadeDmg',\n",
        "                  'playerBARating','playerBADpr','playerBAKast','playerBAImpact','playerBAAdr','playerBAKpr','playerBAHs','playerBAKD','playerBAGrenadeDmg',\n",
        "                  'playerBBRating','playerBBDpr','playerBBKast','playerBBImpact','playerBBAdr','playerBBKpr','playerBBHs','playerBBKD','playerBBGrenadeDmg',\n",
        "                  'playerBCRating','playerBCDpr','playerBCKast','playerBCImpact','playerBCAdr','playerBCKpr','playerBCHs','playerBCKD','playerBCGrenadeDmg',\n",
        "                  'playerBDRating','playerBDDpr','playerBDKast','playerBDImpact','playerBDAdr','playerBDKpr','playerBDHs','playerBDKD','playerBDGrenadeDmg',\n",
        "                  'playerBERating','playerBEDpr','playerBEKast','playerBEImpact','playerBEAdr','playerBEKpr','playerBEHs','playerBEKD','playerBEGrenadeDmg']\n",
        "predict={}#?\n",
        "\n",
        "#print(\"Please type numeric values as prompted.\")\n",
        "test=[1.4,2.8,14,23,0.5,0.66,0.467,0.5,1.15,0.71,0.69,1.26,84.5,0.77,0.65,1.09,3.8,1.13,0.62,0.73,1.14,77.7,0.69,0.41,1.12,8.0,1.09,0.63,0.72,1.09,76.5,0.67,0.49,1.06,5.7,1.02,0.63,0.69,0.99,70.5,0.64,0.32,1.01,5.6,0.88,0.68,0.73,0.68,61.4,0.54,0.48,0.80,4.5,1.23,0.61,0.76,1.15,82.9,0.81,0.52,1.33,3.5,1.2,0.6,0.75,1.21,76.9,0.75,0.32,1.26,3.3,1.17,0.64,0.73,1.16,78.7,0.74,0.5,1.17,5.3,1.03,0.67,0.71,1.02,71.8,0.64,0.52,0.95,4.1,0.97,0.68,0.69,0.93,70.5,0.59,0.49,0.87,5.0\n",
        "      ,1.6,2.25,57,126,0.32,0.0,0.484,0.516,1.04,0.61,0.71,0.91,70.1,0.65,0.27,1.07,2.8,1.03,0.75,0.69,1.11,78.1,0.67,0.52,0.90,4.9,1.01,0.69,0.66,0.99,73.9,0.7,0.57,1.01,3.3,1.0266666666666666,0.6833333333333332,0.6866666666666666,1.0033333333333332,74.03333333333333,0.6733333333333333,0.4533333333333333,0.9933333333333335,3.6666666666666665,1.0266666666666666,0.6833333333333332,0.6866666666666666,1.0033333333333332,74.03333333333333,0.6733333333333333,0.4533333333333333,0.9933333333333335,3.6666666666666665,1.06,0.77,0.65,1.16,80.9,0.74,0.69,0.97,1.4,0.78,0.74,0.54,0.72,60.2,0.63,0.44,0.84,1.8,0.73,0.74,0.56,0.6,59.8,0.49,0.52,0.66,2.5,0.72,0.77,0.67,0.62,56.4,0.37,0.5,0.48,3.1,0.35,0.84,0.44,0.18,37.3,0.28,0.5,0.33,2.3\n",
        "      ,1.93,1.75,92,100,0.3,0.47,0.454,0.5,0.98,0.69,0.64,0.97,72.5,0.67,0.55,0.97,4.0,0.91,0.76,0.63,0.99,71.9,0.61,0.63,0.80,4.2,0.85,0.69,0.62,0.78,62.3,0.58,0.53,0.84,4.1,0.84,0.69,0.64,0.78,60.8,0.55,0.54,0.79,4.0,0.895,0.7074999999999999,0.6325000000000001,0.8800000000000001,66.875,0.6025,0.5625,0.85,4.074999999999999,1.19,0.58,0.74,1.21,72.3,0.75,0.37,1.30,3.1,1.16,0.66,0.69,1.25,81.7,0.73,0.55,1.12,5.4,1.1,0.72,0.7,1.11,80.7,0.74,0.53,1.03,4.7,1.06,0.68,0.71,1.11,74.0,0.65,0.5,0.96,4.9,0.94,0.65,0.69,0.8,66.5,0.57,0.44,0.87,3.3\n",
        "      ,2.35,1.5,146,70,0.5,0.46,0.5,0.486,1.24,0.62,0.72,1.15,89.0,0.84,0.47,1.36,4.8,1.05,0.67,0.7,1.05,72.7,0.69,0.62,1.02,4.8,0.99,0.63,0.69,0.91,69.2,0.6,0.49,0.95,3.9,0.93,0.75,0.67,0.95,69.7,0.63,0.35,0.84,4.8,0.93,0.66,0.65,0.92,66.4,0.59,0.44,0.90,7.9,1.14,0.63,0.7,1.15,76.1,0.75,0.29,1.19,2.8,1.12,0.72,0.73,1.2,80.9,0.73,0.58,1.01,3.8,0.97,0.67,0.7,0.88,66.8,0.62,0.53,0.92,3.8,0.95,0.65,0.69,0.88,64.6,0.59,0.56,0.91,4.5,1.045,0.6675,0.705,1.0274999999999999,72.1,0.6725,0.49,1.0075,3.7249999999999996]\n",
        "\n",
        "for i in range(0,4,len(features)):#2 je místo počtu zápasů\n",
        "  match=[]\n",
        "  for x in range(0,len(features)):\n",
        "    match.append(test[x+i*len(features)])\n",
        "\n",
        "while true:\n",
        "  count=0+i*len(features)\n",
        "  for feature in features:\n",
        "    #valid=True\n",
        "    #while valid:\n",
        "    #  val=input(feature+\": \")\n",
        "    #  if not val.isdigit(): valid=False\n",
        "    predict[feature]=[match[count]]#predict[feature]=[float(val)]\n",
        "    count+=1\n",
        "\n",
        "  predictions=classifier.predict(input_fn=lambda:input_fn(predict))\n",
        "  for pred_dict in predictions:\n",
        "    class_id=pred_dict['class_ids'][0]\n",
        "    probability=pred_dict['probabilities'][class_id]\n",
        "    print('Prediction is \"{}\" ({:.1f}%)'.format(RESULTS[class_id],100*probability))\n"
      ],
      "execution_count": 56,
      "outputs": [
        {
          "output_type": "stream",
          "text": [
            "[NumericColumn(key='Odds_firstTeam', shape=(1,), default_value=None, dtype=tf.float32, normalizer_fn=None), NumericColumn(key='Odds_secondTeam', shape=(1,), default_value=None, dtype=tf.float32, normalizer_fn=None), NumericColumn(key='Rank_firstTeam', shape=(1,), default_value=None, dtype=tf.float32, normalizer_fn=None), NumericColumn(key='Rank_secondTeam', shape=(1,), default_value=None, dtype=tf.float32, normalizer_fn=None), NumericColumn(key='WinRate_firstTeam', shape=(1,), default_value=None, dtype=tf.float32, normalizer_fn=None), NumericColumn(key='WinRate_secondTeam', shape=(1,), default_value=None, dtype=tf.float32, normalizer_fn=None), NumericColumn(key='PistolWinRate_firstTeam', shape=(1,), default_value=None, dtype=tf.float32, normalizer_fn=None), NumericColumn(key='PistolWinRate_secondTeam', shape=(1,), default_value=None, dtype=tf.float32, normalizer_fn=None), NumericColumn(key='playerAARating', shape=(1,), default_value=None, dtype=tf.float32, normalizer_fn=None), NumericColumn(key='playerAADpr', shape=(1,), default_value=None, dtype=tf.float32, normalizer_fn=None), NumericColumn(key='playerAAKast', shape=(1,), default_value=None, dtype=tf.float32, normalizer_fn=None), NumericColumn(key='playerAAImpact', shape=(1,), default_value=None, dtype=tf.float32, normalizer_fn=None), NumericColumn(key='playerAAAdr', shape=(1,), default_value=None, dtype=tf.float32, normalizer_fn=None), NumericColumn(key='playerAAKpr', shape=(1,), default_value=None, dtype=tf.float32, normalizer_fn=None), NumericColumn(key='playerAAHs', shape=(1,), default_value=None, dtype=tf.float32, normalizer_fn=None), NumericColumn(key='playerAAKD', shape=(1,), default_value=None, dtype=tf.float32, normalizer_fn=None), NumericColumn(key='playerAAGrenadeDmg', shape=(1,), default_value=None, dtype=tf.float32, normalizer_fn=None), NumericColumn(key='playerABRating', shape=(1,), default_value=None, dtype=tf.float32, normalizer_fn=None), NumericColumn(key='playerABDpr', shape=(1,), default_value=None, dtype=tf.float32, normalizer_fn=None), NumericColumn(key='playerABKast', shape=(1,), default_value=None, dtype=tf.float32, normalizer_fn=None), NumericColumn(key='playerABImpact', shape=(1,), default_value=None, dtype=tf.float32, normalizer_fn=None), NumericColumn(key='playerABAdr', shape=(1,), default_value=None, dtype=tf.float32, normalizer_fn=None), NumericColumn(key='playerABKpr', shape=(1,), default_value=None, dtype=tf.float32, normalizer_fn=None), NumericColumn(key='playerABHs', shape=(1,), default_value=None, dtype=tf.float32, normalizer_fn=None), NumericColumn(key='playerABKD', shape=(1,), default_value=None, dtype=tf.float32, normalizer_fn=None), NumericColumn(key='playerABGrenadeDmg', shape=(1,), default_value=None, dtype=tf.float32, normalizer_fn=None), NumericColumn(key='playerACRating', shape=(1,), default_value=None, dtype=tf.float32, normalizer_fn=None), NumericColumn(key='playerACDpr', shape=(1,), default_value=None, dtype=tf.float32, normalizer_fn=None), NumericColumn(key='playerACKast', shape=(1,), default_value=None, dtype=tf.float32, normalizer_fn=None), NumericColumn(key='playerACImpact', shape=(1,), default_value=None, dtype=tf.float32, normalizer_fn=None), NumericColumn(key='playerACAdr', shape=(1,), default_value=None, dtype=tf.float32, normalizer_fn=None), NumericColumn(key='playerACKpr', shape=(1,), default_value=None, dtype=tf.float32, normalizer_fn=None), NumericColumn(key='playerACHs', shape=(1,), default_value=None, dtype=tf.float32, normalizer_fn=None), NumericColumn(key='playerACKD', shape=(1,), default_value=None, dtype=tf.float32, normalizer_fn=None), NumericColumn(key='playerACGrenadeDmg', shape=(1,), default_value=None, dtype=tf.float32, normalizer_fn=None), NumericColumn(key='playerADRating', shape=(1,), default_value=None, dtype=tf.float32, normalizer_fn=None), NumericColumn(key='playerADDpr', shape=(1,), default_value=None, dtype=tf.float32, normalizer_fn=None), NumericColumn(key='playerADKast', shape=(1,), default_value=None, dtype=tf.float32, normalizer_fn=None), NumericColumn(key='playerADImpact', shape=(1,), default_value=None, dtype=tf.float32, normalizer_fn=None), NumericColumn(key='playerADAdr', shape=(1,), default_value=None, dtype=tf.float32, normalizer_fn=None), NumericColumn(key='playerADKpr', shape=(1,), default_value=None, dtype=tf.float32, normalizer_fn=None), NumericColumn(key='playerADHs', shape=(1,), default_value=None, dtype=tf.float32, normalizer_fn=None), NumericColumn(key='playerADKD', shape=(1,), default_value=None, dtype=tf.float32, normalizer_fn=None), NumericColumn(key='playerADGrenadeDmg', shape=(1,), default_value=None, dtype=tf.float32, normalizer_fn=None), NumericColumn(key='playerAERating', shape=(1,), default_value=None, dtype=tf.float32, normalizer_fn=None), NumericColumn(key='playerAEDpr', shape=(1,), default_value=None, dtype=tf.float32, normalizer_fn=None), NumericColumn(key='playerAEKast', shape=(1,), default_value=None, dtype=tf.float32, normalizer_fn=None), NumericColumn(key='playerAEImpact', shape=(1,), default_value=None, dtype=tf.float32, normalizer_fn=None), NumericColumn(key='playerAEAdr', shape=(1,), default_value=None, dtype=tf.float32, normalizer_fn=None), NumericColumn(key='playerAEKpr', shape=(1,), default_value=None, dtype=tf.float32, normalizer_fn=None), NumericColumn(key='playerAEHs', shape=(1,), default_value=None, dtype=tf.float32, normalizer_fn=None), NumericColumn(key='playerAEKD', shape=(1,), default_value=None, dtype=tf.float32, normalizer_fn=None), NumericColumn(key='playerAEGrenadeDmg', shape=(1,), default_value=None, dtype=tf.float32, normalizer_fn=None), NumericColumn(key='playerBARating', shape=(1,), default_value=None, dtype=tf.float32, normalizer_fn=None), NumericColumn(key='playerBADpr', shape=(1,), default_value=None, dtype=tf.float32, normalizer_fn=None), NumericColumn(key='playerBAKast', shape=(1,), default_value=None, dtype=tf.float32, normalizer_fn=None), NumericColumn(key='playerBAImpact', shape=(1,), default_value=None, dtype=tf.float32, normalizer_fn=None), NumericColumn(key='playerBAAdr', shape=(1,), default_value=None, dtype=tf.float32, normalizer_fn=None), NumericColumn(key='playerBAKpr', shape=(1,), default_value=None, dtype=tf.float32, normalizer_fn=None), NumericColumn(key='playerBAHs', shape=(1,), default_value=None, dtype=tf.float32, normalizer_fn=None), NumericColumn(key='playerBAKD', shape=(1,), default_value=None, dtype=tf.float32, normalizer_fn=None), NumericColumn(key='playerBAGrenadeDmg', shape=(1,), default_value=None, dtype=tf.float32, normalizer_fn=None), NumericColumn(key='playerBBRating', shape=(1,), default_value=None, dtype=tf.float32, normalizer_fn=None), NumericColumn(key='playerBBDpr', shape=(1,), default_value=None, dtype=tf.float32, normalizer_fn=None), NumericColumn(key='playerBBKast', shape=(1,), default_value=None, dtype=tf.float32, normalizer_fn=None), NumericColumn(key='playerBBImpact', shape=(1,), default_value=None, dtype=tf.float32, normalizer_fn=None), NumericColumn(key='playerBBAdr', shape=(1,), default_value=None, dtype=tf.float32, normalizer_fn=None), NumericColumn(key='playerBBKpr', shape=(1,), default_value=None, dtype=tf.float32, normalizer_fn=None), NumericColumn(key='playerBBHs', shape=(1,), default_value=None, dtype=tf.float32, normalizer_fn=None), NumericColumn(key='playerBBKD', shape=(1,), default_value=None, dtype=tf.float32, normalizer_fn=None), NumericColumn(key='playerBBGrenadeDmg', shape=(1,), default_value=None, dtype=tf.float32, normalizer_fn=None), NumericColumn(key='playerBCRating', shape=(1,), default_value=None, dtype=tf.float32, normalizer_fn=None), NumericColumn(key='playerBCDpr', shape=(1,), default_value=None, dtype=tf.float32, normalizer_fn=None), NumericColumn(key='playerBCKast', shape=(1,), default_value=None, dtype=tf.float32, normalizer_fn=None), NumericColumn(key='playerBCImpact', shape=(1,), default_value=None, dtype=tf.float32, normalizer_fn=None), NumericColumn(key='playerBCAdr', shape=(1,), default_value=None, dtype=tf.float32, normalizer_fn=None), NumericColumn(key='playerBCKpr', shape=(1,), default_value=None, dtype=tf.float32, normalizer_fn=None), NumericColumn(key='playerBCHs', shape=(1,), default_value=None, dtype=tf.float32, normalizer_fn=None), NumericColumn(key='playerBCKD', shape=(1,), default_value=None, dtype=tf.float32, normalizer_fn=None), NumericColumn(key='playerBCGrenadeDmg', shape=(1,), default_value=None, dtype=tf.float32, normalizer_fn=None), NumericColumn(key='playerBDRating', shape=(1,), default_value=None, dtype=tf.float32, normalizer_fn=None), NumericColumn(key='playerBDDpr', shape=(1,), default_value=None, dtype=tf.float32, normalizer_fn=None), NumericColumn(key='playerBDKast', shape=(1,), default_value=None, dtype=tf.float32, normalizer_fn=None), NumericColumn(key='playerBDImpact', shape=(1,), default_value=None, dtype=tf.float32, normalizer_fn=None), NumericColumn(key='playerBDAdr', shape=(1,), default_value=None, dtype=tf.float32, normalizer_fn=None), NumericColumn(key='playerBDKpr', shape=(1,), default_value=None, dtype=tf.float32, normalizer_fn=None), NumericColumn(key='playerBDHs', shape=(1,), default_value=None, dtype=tf.float32, normalizer_fn=None), NumericColumn(key='playerBDKD', shape=(1,), default_value=None, dtype=tf.float32, normalizer_fn=None), NumericColumn(key='playerBDGrenadeDmg', shape=(1,), default_value=None, dtype=tf.float32, normalizer_fn=None), NumericColumn(key='playerBERating', shape=(1,), default_value=None, dtype=tf.float32, normalizer_fn=None), NumericColumn(key='playerBEDpr', shape=(1,), default_value=None, dtype=tf.float32, normalizer_fn=None), NumericColumn(key='playerBEKast', shape=(1,), default_value=None, dtype=tf.float32, normalizer_fn=None), NumericColumn(key='playerBEImpact', shape=(1,), default_value=None, dtype=tf.float32, normalizer_fn=None), NumericColumn(key='playerBEAdr', shape=(1,), default_value=None, dtype=tf.float32, normalizer_fn=None), NumericColumn(key='playerBEKpr', shape=(1,), default_value=None, dtype=tf.float32, normalizer_fn=None), NumericColumn(key='playerBEHs', shape=(1,), default_value=None, dtype=tf.float32, normalizer_fn=None), NumericColumn(key='playerBEKD', shape=(1,), default_value=None, dtype=tf.float32, normalizer_fn=None), NumericColumn(key='playerBEGrenadeDmg', shape=(1,), default_value=None, dtype=tf.float32, normalizer_fn=None)]\n"
          ],
          "name": "stdout"
        },
        {
          "output_type": "error",
          "ename": "RuntimeError",
          "evalue": "ignored",
          "traceback": [
            "\u001b[0;31m---------------------------------------------------------------------------\u001b[0m",
            "\u001b[0;31mRuntimeError\u001b[0m                              Traceback (most recent call last)",
            "\u001b[0;32m<ipython-input-56-2dfd282845aa>\u001b[0m in \u001b[0;36m<module>\u001b[0;34m()\u001b[0m\n\u001b[1;32m     62\u001b[0m \u001b[0mprint\u001b[0m\u001b[0;34m(\u001b[0m\u001b[0mmy_feature_columns\u001b[0m\u001b[0;34m)\u001b[0m\u001b[0;34m\u001b[0m\u001b[0;34m\u001b[0m\u001b[0m\n\u001b[1;32m     63\u001b[0m \u001b[0;34m\u001b[0m\u001b[0m\n\u001b[0;32m---> 64\u001b[0;31m \u001b[0mclassifier\u001b[0m\u001b[0;34m=\u001b[0m\u001b[0mtf\u001b[0m\u001b[0;34m.\u001b[0m\u001b[0mestimator\u001b[0m\u001b[0;34m.\u001b[0m\u001b[0mDNNClassifier\u001b[0m\u001b[0;34m(\u001b[0m\u001b[0mfeature_columns\u001b[0m\u001b[0;34m=\u001b[0m\u001b[0mmy_feature_columns\u001b[0m\u001b[0;34m,\u001b[0m\u001b[0mhidden_units\u001b[0m\u001b[0;34m=\u001b[0m\u001b[0;34m[\u001b[0m\u001b[0;36m30\u001b[0m\u001b[0;34m,\u001b[0m\u001b[0;36m10\u001b[0m\u001b[0;34m]\u001b[0m\u001b[0;34m,\u001b[0m \u001b[0mn_classes\u001b[0m\u001b[0;34m=\u001b[0m\u001b[0;36m3\u001b[0m\u001b[0;34m)\u001b[0m\u001b[0;34m\u001b[0m\u001b[0;34m\u001b[0m\u001b[0m\n\u001b[0m\u001b[1;32m     65\u001b[0m \u001b[0;31m#n_classes říká počet tříd, a hiddent units znamená, že budeme mít 2 vrstvy a první bude mít 30 a druhá 10 nodes\u001b[0m\u001b[0;34m\u001b[0m\u001b[0;34m\u001b[0m\u001b[0;34m\u001b[0m\u001b[0m\n\u001b[1;32m     66\u001b[0m \u001b[0;34m\u001b[0m\u001b[0m\n",
            "\u001b[0;32m/usr/local/lib/python3.7/dist-packages/tensorflow_estimator/python/estimator/canned/dnn.py\u001b[0m in \u001b[0;36m__init__\u001b[0;34m(self, hidden_units, feature_columns, model_dir, n_classes, weight_column, label_vocabulary, optimizer, activation_fn, dropout, config, warm_start_from, loss_reduction, batch_norm)\u001b[0m\n\u001b[1;32m    743\u001b[0m         \u001b[0mweight_column\u001b[0m\u001b[0;34m=\u001b[0m\u001b[0mweight_column\u001b[0m\u001b[0;34m,\u001b[0m\u001b[0;34m\u001b[0m\u001b[0;34m\u001b[0m\u001b[0m\n\u001b[1;32m    744\u001b[0m         \u001b[0mlabel_vocabulary\u001b[0m\u001b[0;34m=\u001b[0m\u001b[0mlabel_vocabulary\u001b[0m\u001b[0;34m,\u001b[0m\u001b[0;34m\u001b[0m\u001b[0;34m\u001b[0m\u001b[0m\n\u001b[0;32m--> 745\u001b[0;31m         loss_reduction=loss_reduction)\n\u001b[0m\u001b[1;32m    746\u001b[0m     \u001b[0mestimator\u001b[0m\u001b[0;34m.\u001b[0m\u001b[0m_canned_estimator_api_gauge\u001b[0m\u001b[0;34m.\u001b[0m\u001b[0mget_cell\u001b[0m\u001b[0;34m(\u001b[0m\u001b[0;34m'Classifier'\u001b[0m\u001b[0;34m)\u001b[0m\u001b[0;34m.\u001b[0m\u001b[0mset\u001b[0m\u001b[0;34m(\u001b[0m\u001b[0;34m'DNN'\u001b[0m\u001b[0;34m)\u001b[0m\u001b[0;34m\u001b[0m\u001b[0;34m\u001b[0m\u001b[0m\n\u001b[1;32m    747\u001b[0m \u001b[0;34m\u001b[0m\u001b[0m\n",
            "\u001b[0;32m/usr/local/lib/python3.7/dist-packages/tensorflow_estimator/python/estimator/head/head_utils.py\u001b[0m in \u001b[0;36mbinary_or_multi_class_head\u001b[0;34m(n_classes, weight_column, label_vocabulary, loss_reduction)\u001b[0m\n\u001b[1;32m     63\u001b[0m         \u001b[0mweight_column\u001b[0m\u001b[0;34m=\u001b[0m\u001b[0mweight_column\u001b[0m\u001b[0;34m,\u001b[0m\u001b[0;34m\u001b[0m\u001b[0;34m\u001b[0m\u001b[0m\n\u001b[1;32m     64\u001b[0m         \u001b[0mlabel_vocabulary\u001b[0m\u001b[0;34m=\u001b[0m\u001b[0mlabel_vocabulary\u001b[0m\u001b[0;34m,\u001b[0m\u001b[0;34m\u001b[0m\u001b[0;34m\u001b[0m\u001b[0m\n\u001b[0;32m---> 65\u001b[0;31m         loss_reduction=loss_reduction)\n\u001b[0m\u001b[1;32m     66\u001b[0m   \u001b[0;32mreturn\u001b[0m \u001b[0mhead\u001b[0m\u001b[0;34m\u001b[0m\u001b[0;34m\u001b[0m\u001b[0m\n\u001b[1;32m     67\u001b[0m \u001b[0;34m\u001b[0m\u001b[0m\n",
            "\u001b[0;32m/usr/local/lib/python3.7/dist-packages/tensorflow_estimator/python/estimator/head/multi_class_head.py\u001b[0m in \u001b[0;36m__init__\u001b[0;34m(self, n_classes, weight_column, label_vocabulary, loss_reduction, loss_fn, name)\u001b[0m\n\u001b[1;32m    156\u001b[0m     \u001b[0;32mif\u001b[0m \u001b[0mloss_fn\u001b[0m\u001b[0;34m:\u001b[0m\u001b[0;34m\u001b[0m\u001b[0;34m\u001b[0m\u001b[0m\n\u001b[1;32m    157\u001b[0m       \u001b[0mbase_head\u001b[0m\u001b[0;34m.\u001b[0m\u001b[0mvalidate_loss_fn_args\u001b[0m\u001b[0;34m(\u001b[0m\u001b[0mloss_fn\u001b[0m\u001b[0;34m)\u001b[0m\u001b[0;34m\u001b[0m\u001b[0;34m\u001b[0m\u001b[0m\n\u001b[0;32m--> 158\u001b[0;31m     \u001b[0mself\u001b[0m\u001b[0;34m.\u001b[0m\u001b[0m_n_classes\u001b[0m \u001b[0;34m=\u001b[0m \u001b[0mbase_head\u001b[0m\u001b[0;34m.\u001b[0m\u001b[0mvalidate_n_classes\u001b[0m\u001b[0;34m(\u001b[0m\u001b[0mn_classes\u001b[0m\u001b[0;34m)\u001b[0m\u001b[0;34m\u001b[0m\u001b[0;34m\u001b[0m\u001b[0m\n\u001b[0m\u001b[1;32m    159\u001b[0m     \u001b[0mself\u001b[0m\u001b[0;34m.\u001b[0m\u001b[0m_weight_column\u001b[0m \u001b[0;34m=\u001b[0m \u001b[0mweight_column\u001b[0m\u001b[0;34m\u001b[0m\u001b[0;34m\u001b[0m\u001b[0m\n\u001b[1;32m    160\u001b[0m     \u001b[0mself\u001b[0m\u001b[0;34m.\u001b[0m\u001b[0m_label_vocabulary\u001b[0m \u001b[0;34m=\u001b[0m \u001b[0mlabel_vocabulary\u001b[0m\u001b[0;34m\u001b[0m\u001b[0;34m\u001b[0m\u001b[0m\n",
            "\u001b[0;32m/usr/local/lib/python3.7/dist-packages/tensorflow_estimator/python/estimator/head/base_head.py\u001b[0m in \u001b[0;36mvalidate_n_classes\u001b[0;34m(n_classes)\u001b[0m\n\u001b[1;32m    696\u001b[0m     \u001b[0;32mraise\u001b[0m \u001b[0mValueError\u001b[0m\u001b[0;34m(\u001b[0m\u001b[0;34m'n_classes must be > 2: %s.'\u001b[0m \u001b[0;34m%\u001b[0m \u001b[0mn_classes\u001b[0m\u001b[0;34m)\u001b[0m\u001b[0;34m\u001b[0m\u001b[0;34m\u001b[0m\u001b[0m\n\u001b[1;32m    697\u001b[0m \u001b[0;34m\u001b[0m\u001b[0m\n\u001b[0;32m--> 698\u001b[0;31m   \u001b[0mn_classes_as_tensor\u001b[0m \u001b[0;34m=\u001b[0m \u001b[0mops\u001b[0m\u001b[0;34m.\u001b[0m\u001b[0mconvert_to_tensor\u001b[0m\u001b[0;34m(\u001b[0m\u001b[0mn_classes\u001b[0m\u001b[0;34m)\u001b[0m\u001b[0;34m\u001b[0m\u001b[0;34m\u001b[0m\u001b[0m\n\u001b[0m\u001b[1;32m    699\u001b[0m   assert_n_classes = tf.compat.v1.debugging.assert_greater(\n\u001b[1;32m    700\u001b[0m       n_classes_as_tensor, 2, message='n_classes must be greater than 2')\n",
            "\u001b[0;32m/usr/local/lib/python3.7/dist-packages/tensorflow/python/profiler/trace.py\u001b[0m in \u001b[0;36mwrapped\u001b[0;34m(*args, **kwargs)\u001b[0m\n\u001b[1;32m    161\u001b[0m         \u001b[0;32mwith\u001b[0m \u001b[0mTrace\u001b[0m\u001b[0;34m(\u001b[0m\u001b[0mtrace_name\u001b[0m\u001b[0;34m,\u001b[0m \u001b[0;34m**\u001b[0m\u001b[0mtrace_kwargs\u001b[0m\u001b[0;34m)\u001b[0m\u001b[0;34m:\u001b[0m\u001b[0;34m\u001b[0m\u001b[0;34m\u001b[0m\u001b[0m\n\u001b[1;32m    162\u001b[0m           \u001b[0;32mreturn\u001b[0m \u001b[0mfunc\u001b[0m\u001b[0;34m(\u001b[0m\u001b[0;34m*\u001b[0m\u001b[0margs\u001b[0m\u001b[0;34m,\u001b[0m \u001b[0;34m**\u001b[0m\u001b[0mkwargs\u001b[0m\u001b[0;34m)\u001b[0m\u001b[0;34m\u001b[0m\u001b[0;34m\u001b[0m\u001b[0m\n\u001b[0;32m--> 163\u001b[0;31m       \u001b[0;32mreturn\u001b[0m \u001b[0mfunc\u001b[0m\u001b[0;34m(\u001b[0m\u001b[0;34m*\u001b[0m\u001b[0margs\u001b[0m\u001b[0;34m,\u001b[0m \u001b[0;34m**\u001b[0m\u001b[0mkwargs\u001b[0m\u001b[0;34m)\u001b[0m\u001b[0;34m\u001b[0m\u001b[0;34m\u001b[0m\u001b[0m\n\u001b[0m\u001b[1;32m    164\u001b[0m \u001b[0;34m\u001b[0m\u001b[0m\n\u001b[1;32m    165\u001b[0m     \u001b[0;32mreturn\u001b[0m \u001b[0mwrapped\u001b[0m\u001b[0;34m\u001b[0m\u001b[0;34m\u001b[0m\u001b[0m\n",
            "\u001b[0;32m/usr/local/lib/python3.7/dist-packages/tensorflow/python/framework/ops.py\u001b[0m in \u001b[0;36mconvert_to_tensor\u001b[0;34m(value, dtype, name, as_ref, preferred_dtype, dtype_hint, ctx, accepted_result_types)\u001b[0m\n\u001b[1;32m   1564\u001b[0m \u001b[0;34m\u001b[0m\u001b[0m\n\u001b[1;32m   1565\u001b[0m     \u001b[0;32mif\u001b[0m \u001b[0mret\u001b[0m \u001b[0;32mis\u001b[0m \u001b[0;32mNone\u001b[0m\u001b[0;34m:\u001b[0m\u001b[0;34m\u001b[0m\u001b[0;34m\u001b[0m\u001b[0m\n\u001b[0;32m-> 1566\u001b[0;31m       \u001b[0mret\u001b[0m \u001b[0;34m=\u001b[0m \u001b[0mconversion_func\u001b[0m\u001b[0;34m(\u001b[0m\u001b[0mvalue\u001b[0m\u001b[0;34m,\u001b[0m \u001b[0mdtype\u001b[0m\u001b[0;34m=\u001b[0m\u001b[0mdtype\u001b[0m\u001b[0;34m,\u001b[0m \u001b[0mname\u001b[0m\u001b[0;34m=\u001b[0m\u001b[0mname\u001b[0m\u001b[0;34m,\u001b[0m \u001b[0mas_ref\u001b[0m\u001b[0;34m=\u001b[0m\u001b[0mas_ref\u001b[0m\u001b[0;34m)\u001b[0m\u001b[0;34m\u001b[0m\u001b[0;34m\u001b[0m\u001b[0m\n\u001b[0m\u001b[1;32m   1567\u001b[0m \u001b[0;34m\u001b[0m\u001b[0m\n\u001b[1;32m   1568\u001b[0m     \u001b[0;32mif\u001b[0m \u001b[0mret\u001b[0m \u001b[0;32mis\u001b[0m \u001b[0mNotImplemented\u001b[0m\u001b[0;34m:\u001b[0m\u001b[0;34m\u001b[0m\u001b[0;34m\u001b[0m\u001b[0m\n",
            "\u001b[0;32m/usr/local/lib/python3.7/dist-packages/tensorflow/python/framework/tensor_conversion_registry.py\u001b[0m in \u001b[0;36m_default_conversion_function\u001b[0;34m(***failed resolving arguments***)\u001b[0m\n\u001b[1;32m     50\u001b[0m \u001b[0;32mdef\u001b[0m \u001b[0m_default_conversion_function\u001b[0m\u001b[0;34m(\u001b[0m\u001b[0mvalue\u001b[0m\u001b[0;34m,\u001b[0m \u001b[0mdtype\u001b[0m\u001b[0;34m,\u001b[0m \u001b[0mname\u001b[0m\u001b[0;34m,\u001b[0m \u001b[0mas_ref\u001b[0m\u001b[0;34m)\u001b[0m\u001b[0;34m:\u001b[0m\u001b[0;34m\u001b[0m\u001b[0;34m\u001b[0m\u001b[0m\n\u001b[1;32m     51\u001b[0m   \u001b[0;32mdel\u001b[0m \u001b[0mas_ref\u001b[0m  \u001b[0;31m# Unused.\u001b[0m\u001b[0;34m\u001b[0m\u001b[0;34m\u001b[0m\u001b[0m\n\u001b[0;32m---> 52\u001b[0;31m   \u001b[0;32mreturn\u001b[0m \u001b[0mconstant_op\u001b[0m\u001b[0;34m.\u001b[0m\u001b[0mconstant\u001b[0m\u001b[0;34m(\u001b[0m\u001b[0mvalue\u001b[0m\u001b[0;34m,\u001b[0m \u001b[0mdtype\u001b[0m\u001b[0;34m,\u001b[0m \u001b[0mname\u001b[0m\u001b[0;34m=\u001b[0m\u001b[0mname\u001b[0m\u001b[0;34m)\u001b[0m\u001b[0;34m\u001b[0m\u001b[0;34m\u001b[0m\u001b[0m\n\u001b[0m\u001b[1;32m     53\u001b[0m \u001b[0;34m\u001b[0m\u001b[0m\n\u001b[1;32m     54\u001b[0m \u001b[0;34m\u001b[0m\u001b[0m\n",
            "\u001b[0;32m/usr/local/lib/python3.7/dist-packages/tensorflow/python/framework/constant_op.py\u001b[0m in \u001b[0;36mconstant\u001b[0;34m(value, dtype, shape, name)\u001b[0m\n\u001b[1;32m    263\u001b[0m   \"\"\"\n\u001b[1;32m    264\u001b[0m   return _constant_impl(value, dtype, shape, name, verify_shape=False,\n\u001b[0;32m--> 265\u001b[0;31m                         allow_broadcast=True)\n\u001b[0m\u001b[1;32m    266\u001b[0m \u001b[0;34m\u001b[0m\u001b[0m\n\u001b[1;32m    267\u001b[0m \u001b[0;34m\u001b[0m\u001b[0m\n",
            "\u001b[0;32m/usr/local/lib/python3.7/dist-packages/tensorflow/python/framework/constant_op.py\u001b[0m in \u001b[0;36m_constant_impl\u001b[0;34m(value, dtype, shape, name, verify_shape, allow_broadcast)\u001b[0m\n\u001b[1;32m    285\u001b[0m   \u001b[0mattrs\u001b[0m \u001b[0;34m=\u001b[0m \u001b[0;34m{\u001b[0m\u001b[0;34m\"value\"\u001b[0m\u001b[0;34m:\u001b[0m \u001b[0mtensor_value\u001b[0m\u001b[0;34m,\u001b[0m \u001b[0;34m\"dtype\"\u001b[0m\u001b[0;34m:\u001b[0m \u001b[0mdtype_value\u001b[0m\u001b[0;34m}\u001b[0m\u001b[0;34m\u001b[0m\u001b[0;34m\u001b[0m\u001b[0m\n\u001b[1;32m    286\u001b[0m   const_tensor = g._create_op_internal(  # pylint: disable=protected-access\n\u001b[0;32m--> 287\u001b[0;31m       \"Const\", [], [dtype_value.type], attrs=attrs, name=name).outputs[0]\n\u001b[0m\u001b[1;32m    288\u001b[0m \u001b[0;34m\u001b[0m\u001b[0m\n\u001b[1;32m    289\u001b[0m   \u001b[0;32mif\u001b[0m \u001b[0mop_callbacks\u001b[0m\u001b[0;34m.\u001b[0m\u001b[0mshould_invoke_op_callbacks\u001b[0m\u001b[0;34m(\u001b[0m\u001b[0;34m)\u001b[0m\u001b[0;34m:\u001b[0m\u001b[0;34m\u001b[0m\u001b[0;34m\u001b[0m\u001b[0m\n",
            "\u001b[0;32m/usr/local/lib/python3.7/dist-packages/tensorflow/python/framework/ops.py\u001b[0m in \u001b[0;36m_create_op_internal\u001b[0;34m(self, op_type, inputs, dtypes, input_types, name, attrs, op_def, compute_device)\u001b[0m\n\u001b[1;32m   3538\u001b[0m       \u001b[0mAn\u001b[0m\u001b[0;31m \u001b[0m\u001b[0;31m`\u001b[0m\u001b[0mOperation\u001b[0m\u001b[0;31m`\u001b[0m \u001b[0mobject\u001b[0m\u001b[0;34m.\u001b[0m\u001b[0;34m\u001b[0m\u001b[0;34m\u001b[0m\u001b[0m\n\u001b[1;32m   3539\u001b[0m     \"\"\"\n\u001b[0;32m-> 3540\u001b[0;31m     \u001b[0mself\u001b[0m\u001b[0;34m.\u001b[0m\u001b[0m_check_not_finalized\u001b[0m\u001b[0;34m(\u001b[0m\u001b[0;34m)\u001b[0m\u001b[0;34m\u001b[0m\u001b[0;34m\u001b[0m\u001b[0m\n\u001b[0m\u001b[1;32m   3541\u001b[0m     \u001b[0;32mif\u001b[0m \u001b[0mname\u001b[0m \u001b[0;32mis\u001b[0m \u001b[0;32mNone\u001b[0m\u001b[0;34m:\u001b[0m\u001b[0;34m\u001b[0m\u001b[0;34m\u001b[0m\u001b[0m\n\u001b[1;32m   3542\u001b[0m       \u001b[0mname\u001b[0m \u001b[0;34m=\u001b[0m \u001b[0mop_type\u001b[0m\u001b[0;34m\u001b[0m\u001b[0;34m\u001b[0m\u001b[0m\n",
            "\u001b[0;32m/usr/local/lib/python3.7/dist-packages/tensorflow/python/framework/ops.py\u001b[0m in \u001b[0;36m_check_not_finalized\u001b[0;34m(self)\u001b[0m\n\u001b[1;32m   3128\u001b[0m     \"\"\"\n\u001b[1;32m   3129\u001b[0m     \u001b[0;32mif\u001b[0m \u001b[0mself\u001b[0m\u001b[0;34m.\u001b[0m\u001b[0m_finalized\u001b[0m\u001b[0;34m:\u001b[0m\u001b[0;34m\u001b[0m\u001b[0;34m\u001b[0m\u001b[0m\n\u001b[0;32m-> 3130\u001b[0;31m       \u001b[0;32mraise\u001b[0m \u001b[0mRuntimeError\u001b[0m\u001b[0;34m(\u001b[0m\u001b[0;34m\"Graph is finalized and cannot be modified.\"\u001b[0m\u001b[0;34m)\u001b[0m\u001b[0;34m\u001b[0m\u001b[0;34m\u001b[0m\u001b[0m\n\u001b[0m\u001b[1;32m   3131\u001b[0m \u001b[0;34m\u001b[0m\u001b[0m\n\u001b[1;32m   3132\u001b[0m   \u001b[0;32mdef\u001b[0m \u001b[0m_add_op\u001b[0m\u001b[0;34m(\u001b[0m\u001b[0mself\u001b[0m\u001b[0;34m,\u001b[0m \u001b[0mop\u001b[0m\u001b[0;34m,\u001b[0m \u001b[0mop_name\u001b[0m\u001b[0;34m)\u001b[0m\u001b[0;34m:\u001b[0m\u001b[0;34m\u001b[0m\u001b[0;34m\u001b[0m\u001b[0m\n",
            "\u001b[0;31mRuntimeError\u001b[0m: Graph is finalized and cannot be modified."
          ]
        }
      ]
    },
    {
      "cell_type": "code",
      "metadata": {
        "id": "TPpkf4-u-mSV"
      },
      "source": [
        ""
      ],
      "execution_count": null,
      "outputs": []
    }
  ]
}